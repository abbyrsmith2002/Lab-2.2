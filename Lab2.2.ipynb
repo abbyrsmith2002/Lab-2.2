{
 "cells": [
  {
   "cell_type": "code",
   "execution_count": 89,
   "id": "2fc82c89-1b35-4587-9bcb-920455b07bda",
   "metadata": {},
   "outputs": [],
   "source": [
    "# Gold Glove Dataset"
   ]
  },
  {
   "cell_type": "code",
   "execution_count": 136,
   "id": "898e2dda-eb65-46da-8237-d4337b2e4f0a",
   "metadata": {},
   "outputs": [
    {
     "name": "stdout",
     "output_type": "stream",
     "text": [
      "Requirement already satisfied: polars[all] in c:\\users\\ng0471lb\\appdata\\local\\anaconda3\\envs\\polars\\lib\\site-packages (1.6.0)\n",
      "Requirement already satisfied: numpy>=1.16.0 in c:\\users\\ng0471lb\\appdata\\local\\anaconda3\\envs\\polars\\lib\\site-packages (from polars[all]) (2.1.0)\n",
      "Requirement already satisfied: pandas in c:\\users\\ng0471lb\\appdata\\local\\anaconda3\\envs\\polars\\lib\\site-packages (from polars[all]) (2.2.2)\n",
      "Requirement already satisfied: pyarrow>=7.0.0 in c:\\users\\ng0471lb\\appdata\\local\\anaconda3\\envs\\polars\\lib\\site-packages (from polars[all]) (17.0.0)\n",
      "Requirement already satisfied: pydantic in c:\\users\\ng0471lb\\appdata\\local\\anaconda3\\envs\\polars\\lib\\site-packages (from polars[all]) (2.9.0)\n",
      "Requirement already satisfied: nest-asyncio in c:\\users\\ng0471lb\\appdata\\local\\anaconda3\\envs\\polars\\lib\\site-packages (from polars[all]) (1.6.0)\n",
      "Requirement already satisfied: fsspec in c:\\users\\ng0471lb\\appdata\\local\\anaconda3\\envs\\polars\\lib\\site-packages (from polars[all]) (2024.9.0)\n",
      "Requirement already satisfied: deltalake>=0.15.0 in c:\\users\\ng0471lb\\appdata\\local\\anaconda3\\envs\\polars\\lib\\site-packages (from polars[all]) (0.19.2)\n",
      "Requirement already satisfied: pyiceberg>=0.5.0 in c:\\users\\ng0471lb\\appdata\\local\\anaconda3\\envs\\polars\\lib\\site-packages (from polars[all]) (0.7.1)\n",
      "Requirement already satisfied: gevent in c:\\users\\ng0471lb\\appdata\\local\\anaconda3\\envs\\polars\\lib\\site-packages (from polars[all]) (24.2.1)\n",
      "Requirement already satisfied: cloudpickle in c:\\users\\ng0471lb\\appdata\\local\\anaconda3\\envs\\polars\\lib\\site-packages (from polars[all]) (3.0.0)\n",
      "Requirement already satisfied: matplotlib in c:\\users\\ng0471lb\\appdata\\local\\anaconda3\\envs\\polars\\lib\\site-packages (from polars[all]) (3.9.2)\n",
      "Requirement already satisfied: altair>=5.4.0 in c:\\users\\ng0471lb\\appdata\\local\\anaconda3\\envs\\polars\\lib\\site-packages (from polars[all]) (5.4.1)\n",
      "Requirement already satisfied: great-tables>=0.8.0 in c:\\users\\ng0471lb\\appdata\\local\\anaconda3\\envs\\polars\\lib\\site-packages (from polars[all]) (0.11.0)\n",
      "Requirement already satisfied: tzdata in c:\\users\\ng0471lb\\appdata\\local\\anaconda3\\envs\\polars\\lib\\site-packages (from polars[all]) (2024.1)\n",
      "Requirement already satisfied: jinja2 in c:\\users\\ng0471lb\\appdata\\local\\anaconda3\\envs\\polars\\lib\\site-packages (from altair>=5.4.0->polars[all]) (3.1.4)\n",
      "Requirement already satisfied: jsonschema>=3.0 in c:\\users\\ng0471lb\\appdata\\local\\anaconda3\\envs\\polars\\lib\\site-packages (from altair>=5.4.0->polars[all]) (4.23.0)\n",
      "Requirement already satisfied: narwhals>=1.5.2 in c:\\users\\ng0471lb\\appdata\\local\\anaconda3\\envs\\polars\\lib\\site-packages (from altair>=5.4.0->polars[all]) (1.6.3)\n",
      "Requirement already satisfied: packaging in c:\\users\\ng0471lb\\appdata\\local\\anaconda3\\envs\\polars\\lib\\site-packages (from altair>=5.4.0->polars[all]) (24.1)\n",
      "Requirement already satisfied: typing-extensions>=4.10.0 in c:\\users\\ng0471lb\\appdata\\local\\anaconda3\\envs\\polars\\lib\\site-packages (from altair>=5.4.0->polars[all]) (4.12.2)\n",
      "Requirement already satisfied: commonmark>=0.9.1 in c:\\users\\ng0471lb\\appdata\\local\\anaconda3\\envs\\polars\\lib\\site-packages (from great-tables>=0.8.0->polars[all]) (0.9.1)\n",
      "Requirement already satisfied: htmltools>=0.4.1 in c:\\users\\ng0471lb\\appdata\\local\\anaconda3\\envs\\polars\\lib\\site-packages (from great-tables>=0.8.0->polars[all]) (0.5.3)\n",
      "Requirement already satisfied: importlib-metadata in c:\\users\\ng0471lb\\appdata\\local\\anaconda3\\envs\\polars\\lib\\site-packages (from great-tables>=0.8.0->polars[all]) (8.4.0)\n",
      "Requirement already satisfied: Babel>=2.13.1 in c:\\users\\ng0471lb\\appdata\\local\\anaconda3\\envs\\polars\\lib\\site-packages (from great-tables>=0.8.0->polars[all]) (2.14.0)\n",
      "Requirement already satisfied: importlib-resources in c:\\users\\ng0471lb\\appdata\\local\\anaconda3\\envs\\polars\\lib\\site-packages (from great-tables>=0.8.0->polars[all]) (6.4.4)\n",
      "Requirement already satisfied: click<9.0.0,>=7.1.1 in c:\\users\\ng0471lb\\appdata\\local\\anaconda3\\envs\\polars\\lib\\site-packages (from pyiceberg>=0.5.0->polars[all]) (8.1.7)\n",
      "Requirement already satisfied: mmh3<5.0.0,>=4.0.0 in c:\\users\\ng0471lb\\appdata\\local\\anaconda3\\envs\\polars\\lib\\site-packages (from pyiceberg>=0.5.0->polars[all]) (4.1.0)\n",
      "Requirement already satisfied: pyparsing<4.0.0,>=3.1.0 in c:\\users\\ng0471lb\\appdata\\local\\anaconda3\\envs\\polars\\lib\\site-packages (from pyiceberg>=0.5.0->polars[all]) (3.1.4)\n",
      "Requirement already satisfied: requests<3.0.0,>=2.20.0 in c:\\users\\ng0471lb\\appdata\\local\\anaconda3\\envs\\polars\\lib\\site-packages (from pyiceberg>=0.5.0->polars[all]) (2.32.3)\n",
      "Requirement already satisfied: rich<14.0.0,>=10.11.0 in c:\\users\\ng0471lb\\appdata\\local\\anaconda3\\envs\\polars\\lib\\site-packages (from pyiceberg>=0.5.0->polars[all]) (13.8.0)\n",
      "Requirement already satisfied: sortedcontainers==2.4.0 in c:\\users\\ng0471lb\\appdata\\local\\anaconda3\\envs\\polars\\lib\\site-packages (from pyiceberg>=0.5.0->polars[all]) (2.4.0)\n",
      "Requirement already satisfied: strictyaml<2.0.0,>=1.7.0 in c:\\users\\ng0471lb\\appdata\\local\\anaconda3\\envs\\polars\\lib\\site-packages (from pyiceberg>=0.5.0->polars[all]) (1.7.3)\n",
      "Requirement already satisfied: tenacity<9.0.0,>=8.2.3 in c:\\users\\ng0471lb\\appdata\\local\\anaconda3\\envs\\polars\\lib\\site-packages (from pyiceberg>=0.5.0->polars[all]) (8.5.0)\n",
      "Requirement already satisfied: annotated-types>=0.4.0 in c:\\users\\ng0471lb\\appdata\\local\\anaconda3\\envs\\polars\\lib\\site-packages (from pydantic->polars[all]) (0.7.0)\n",
      "Requirement already satisfied: pydantic-core==2.23.2 in c:\\users\\ng0471lb\\appdata\\local\\anaconda3\\envs\\polars\\lib\\site-packages (from pydantic->polars[all]) (2.23.2)\n",
      "Requirement already satisfied: zope.event in c:\\users\\ng0471lb\\appdata\\local\\anaconda3\\envs\\polars\\lib\\site-packages (from gevent->polars[all]) (5.0)\n",
      "Requirement already satisfied: zope.interface in c:\\users\\ng0471lb\\appdata\\local\\anaconda3\\envs\\polars\\lib\\site-packages (from gevent->polars[all]) (7.0.3)\n",
      "Requirement already satisfied: greenlet>=3.0rc3 in c:\\users\\ng0471lb\\appdata\\local\\anaconda3\\envs\\polars\\lib\\site-packages (from gevent->polars[all]) (3.0.3)\n",
      "Requirement already satisfied: cffi>=1.12.2 in c:\\users\\ng0471lb\\appdata\\local\\anaconda3\\envs\\polars\\lib\\site-packages (from gevent->polars[all]) (1.17.0)\n",
      "Requirement already satisfied: contourpy>=1.0.1 in c:\\users\\ng0471lb\\appdata\\local\\anaconda3\\envs\\polars\\lib\\site-packages (from matplotlib->polars[all]) (1.3.0)\n",
      "Requirement already satisfied: cycler>=0.10 in c:\\users\\ng0471lb\\appdata\\local\\anaconda3\\envs\\polars\\lib\\site-packages (from matplotlib->polars[all]) (0.12.1)\n",
      "Requirement already satisfied: fonttools>=4.22.0 in c:\\users\\ng0471lb\\appdata\\local\\anaconda3\\envs\\polars\\lib\\site-packages (from matplotlib->polars[all]) (4.53.1)\n",
      "Requirement already satisfied: kiwisolver>=1.3.1 in c:\\users\\ng0471lb\\appdata\\local\\anaconda3\\envs\\polars\\lib\\site-packages (from matplotlib->polars[all]) (1.4.5)\n",
      "Requirement already satisfied: pillow>=8 in c:\\users\\ng0471lb\\appdata\\local\\anaconda3\\envs\\polars\\lib\\site-packages (from matplotlib->polars[all]) (10.4.0)\n",
      "Requirement already satisfied: python-dateutil>=2.7 in c:\\users\\ng0471lb\\appdata\\local\\anaconda3\\envs\\polars\\lib\\site-packages (from matplotlib->polars[all]) (2.9.0)\n",
      "Requirement already satisfied: pytz>=2020.1 in c:\\users\\ng0471lb\\appdata\\local\\anaconda3\\envs\\polars\\lib\\site-packages (from pandas->polars[all]) (2024.1)\n",
      "Requirement already satisfied: adbc-driver-manager[dbapi] in c:\\users\\ng0471lb\\appdata\\local\\anaconda3\\envs\\polars\\lib\\site-packages (from polars[all]) (1.2.0)\n",
      "Requirement already satisfied: adbc-driver-sqlite[dbapi] in c:\\users\\ng0471lb\\appdata\\local\\anaconda3\\envs\\polars\\lib\\site-packages (from polars[all]) (1.2.0)\n",
      "Requirement already satisfied: connectorx>=0.3.2 in c:\\users\\ng0471lb\\appdata\\local\\anaconda3\\envs\\polars\\lib\\site-packages (from polars[all]) (0.3.3)\n",
      "Requirement already satisfied: sqlalchemy in c:\\users\\ng0471lb\\appdata\\local\\anaconda3\\envs\\polars\\lib\\site-packages (from polars[all]) (2.0.34)\n",
      "Requirement already satisfied: fastexcel>=0.9 in c:\\users\\ng0471lb\\appdata\\local\\anaconda3\\envs\\polars\\lib\\site-packages (from polars[all]) (0.11.6)\n",
      "Requirement already satisfied: openpyxl>=3.0.0 in c:\\users\\ng0471lb\\appdata\\local\\anaconda3\\envs\\polars\\lib\\site-packages (from polars[all]) (3.1.5)\n",
      "Requirement already satisfied: xlsx2csv>=0.8.0 in c:\\users\\ng0471lb\\appdata\\local\\anaconda3\\envs\\polars\\lib\\site-packages (from polars[all]) (0.8.3)\n",
      "Requirement already satisfied: xlsxwriter in c:\\users\\ng0471lb\\appdata\\local\\anaconda3\\envs\\polars\\lib\\site-packages (from polars[all]) (3.2.0)\n",
      "Requirement already satisfied: pycparser in c:\\users\\ng0471lb\\appdata\\local\\anaconda3\\envs\\polars\\lib\\site-packages (from cffi>=1.12.2->gevent->polars[all]) (2.22)\n",
      "Requirement already satisfied: colorama in c:\\users\\ng0471lb\\appdata\\local\\anaconda3\\envs\\polars\\lib\\site-packages (from click<9.0.0,>=7.1.1->pyiceberg>=0.5.0->polars[all]) (0.4.6)\n",
      "Requirement already satisfied: attrs>=22.2.0 in c:\\users\\ng0471lb\\appdata\\local\\anaconda3\\envs\\polars\\lib\\site-packages (from jsonschema>=3.0->altair>=5.4.0->polars[all]) (24.2.0)\n",
      "Requirement already satisfied: jsonschema-specifications>=2023.03.6 in c:\\users\\ng0471lb\\appdata\\local\\anaconda3\\envs\\polars\\lib\\site-packages (from jsonschema>=3.0->altair>=5.4.0->polars[all]) (2023.12.1)\n",
      "Requirement already satisfied: referencing>=0.28.4 in c:\\users\\ng0471lb\\appdata\\local\\anaconda3\\envs\\polars\\lib\\site-packages (from jsonschema>=3.0->altair>=5.4.0->polars[all]) (0.35.1)\n",
      "Requirement already satisfied: rpds-py>=0.7.1 in c:\\users\\ng0471lb\\appdata\\local\\anaconda3\\envs\\polars\\lib\\site-packages (from jsonschema>=3.0->altair>=5.4.0->polars[all]) (0.20.0)\n",
      "Requirement already satisfied: et-xmlfile in c:\\users\\ng0471lb\\appdata\\local\\anaconda3\\envs\\polars\\lib\\site-packages (from openpyxl>=3.0.0->polars[all]) (1.1.0)\n",
      "Requirement already satisfied: six>=1.5 in c:\\users\\ng0471lb\\appdata\\local\\anaconda3\\envs\\polars\\lib\\site-packages (from python-dateutil>=2.7->matplotlib->polars[all]) (1.16.0)\n",
      "Requirement already satisfied: charset-normalizer<4,>=2 in c:\\users\\ng0471lb\\appdata\\local\\anaconda3\\envs\\polars\\lib\\site-packages (from requests<3.0.0,>=2.20.0->pyiceberg>=0.5.0->polars[all]) (3.3.2)\n",
      "Requirement already satisfied: idna<4,>=2.5 in c:\\users\\ng0471lb\\appdata\\local\\anaconda3\\envs\\polars\\lib\\site-packages (from requests<3.0.0,>=2.20.0->pyiceberg>=0.5.0->polars[all]) (3.8)\n",
      "Requirement already satisfied: urllib3<3,>=1.21.1 in c:\\users\\ng0471lb\\appdata\\local\\anaconda3\\envs\\polars\\lib\\site-packages (from requests<3.0.0,>=2.20.0->pyiceberg>=0.5.0->polars[all]) (2.2.2)\n",
      "Requirement already satisfied: certifi>=2017.4.17 in c:\\users\\ng0471lb\\appdata\\local\\anaconda3\\envs\\polars\\lib\\site-packages (from requests<3.0.0,>=2.20.0->pyiceberg>=0.5.0->polars[all]) (2024.8.30)\n",
      "Requirement already satisfied: markdown-it-py>=2.2.0 in c:\\users\\ng0471lb\\appdata\\local\\anaconda3\\envs\\polars\\lib\\site-packages (from rich<14.0.0,>=10.11.0->pyiceberg>=0.5.0->polars[all]) (3.0.0)\n",
      "Requirement already satisfied: pygments<3.0.0,>=2.13.0 in c:\\users\\ng0471lb\\appdata\\local\\anaconda3\\envs\\polars\\lib\\site-packages (from rich<14.0.0,>=10.11.0->pyiceberg>=0.5.0->polars[all]) (2.18.0)\n",
      "Requirement already satisfied: zipp>=0.5 in c:\\users\\ng0471lb\\appdata\\local\\anaconda3\\envs\\polars\\lib\\site-packages (from importlib-metadata->great-tables>=0.8.0->polars[all]) (3.20.1)\n",
      "Requirement already satisfied: MarkupSafe>=2.0 in c:\\users\\ng0471lb\\appdata\\local\\anaconda3\\envs\\polars\\lib\\site-packages (from jinja2->altair>=5.4.0->polars[all]) (2.1.5)\n",
      "Requirement already satisfied: setuptools in c:\\users\\ng0471lb\\appdata\\local\\anaconda3\\envs\\polars\\lib\\site-packages (from zope.event->gevent->polars[all]) (72.2.0)\n",
      "Requirement already satisfied: mdurl~=0.1 in c:\\users\\ng0471lb\\appdata\\local\\anaconda3\\envs\\polars\\lib\\site-packages (from markdown-it-py>=2.2.0->rich<14.0.0,>=10.11.0->pyiceberg>=0.5.0->polars[all]) (0.1.2)\n"
     ]
    }
   ],
   "source": [
    "!pip install \"polars[all]\""
   ]
  },
  {
   "cell_type": "code",
   "execution_count": 137,
   "id": "0f481733-4d50-4560-a749-ee5d4daf5409",
   "metadata": {},
   "outputs": [
    {
     "name": "stdout",
     "output_type": "stream",
     "text": [
      "Requirement already satisfied: more_polars in c:\\users\\ng0471lb\\appdata\\local\\anaconda3\\envs\\polars\\lib\\site-packages (0.3.0)\n",
      "Requirement already satisfied: composable>=0.5.4 in c:\\users\\ng0471lb\\appdata\\local\\anaconda3\\envs\\polars\\lib\\site-packages (from more_polars) (0.5.4)\n",
      "Requirement already satisfied: polars>=0.14.26 in c:\\users\\ng0471lb\\appdata\\local\\anaconda3\\envs\\polars\\lib\\site-packages (from more_polars) (1.6.0)\n",
      "Requirement already satisfied: python-forge<19.0,>=18.6 in c:\\users\\ng0471lb\\appdata\\local\\anaconda3\\envs\\polars\\lib\\site-packages (from composable>=0.5.4->more_polars) (18.6.0)\n",
      "Requirement already satisfied: toolz<0.12.0,>=0.11.1 in c:\\users\\ng0471lb\\appdata\\local\\anaconda3\\envs\\polars\\lib\\site-packages (from composable>=0.5.4->more_polars) (0.11.2)\n"
     ]
    }
   ],
   "source": [
    "!pip install more_polars"
   ]
  },
  {
   "cell_type": "code",
   "execution_count": 138,
   "id": "3809064a-3e41-401e-ba6b-005e82dd4010",
   "metadata": {},
   "outputs": [],
   "source": [
    "import polars as pl\n",
    "pl.Config.with_columns_kwargs = True"
   ]
  },
  {
   "cell_type": "code",
   "execution_count": 155,
   "id": "6a4f5845-0be1-44d0-9618-915f3b19636c",
   "metadata": {},
   "outputs": [
    {
     "data": {
      "text/html": [
       "<div><style>\n",
       ".dataframe > thead > tr,\n",
       ".dataframe > tbody > tr {\n",
       "  text-align: right;\n",
       "  white-space: pre-wrap;\n",
       "}\n",
       "</style>\n",
       "<small>shape: (6_797, 6)</small><table border=\"1\" class=\"dataframe\"><thead><tr><th>playerID</th><th>awardID</th><th>yearID</th><th>lgID</th><th>tie</th><th>notes</th></tr><tr><td>str</td><td>str</td><td>i64</td><td>str</td><td>str</td><td>str</td></tr></thead><tbody><tr><td>&quot;poseybu01&quot;</td><td>&quot;Lou Gehrig Memorial Award&quot;</td><td>2019</td><td>&quot;ML&quot;</td><td>null</td><td>null</td></tr><tr><td>&quot;klubeco01&quot;</td><td>&quot;Lou Gehrig Memorial Award&quot;</td><td>2018</td><td>&quot;ML&quot;</td><td>null</td><td>null</td></tr><tr><td>&quot;vottojo01&quot;</td><td>&quot;Lou Gehrig Memorial Award&quot;</td><td>2017</td><td>&quot;ML&quot;</td><td>null</td><td>null</td></tr><tr><td>&quot;altuvjo01&quot;</td><td>&quot;Lou Gehrig Memorial Award&quot;</td><td>2016</td><td>&quot;ML&quot;</td><td>null</td><td>null</td></tr><tr><td>&quot;grandcu01&quot;</td><td>&quot;Lou Gehrig Memorial Award&quot;</td><td>2015</td><td>&quot;ML&quot;</td><td>null</td><td>null</td></tr><tr><td>&hellip;</td><td>&hellip;</td><td>&hellip;</td><td>&hellip;</td><td>&hellip;</td><td>&hellip;</td></tr><tr><td>&quot;barnhtu01&quot;</td><td>&quot;Gold Glove&quot;</td><td>2017</td><td>&quot;NL&quot;</td><td>null</td><td>&quot;C&quot;</td></tr><tr><td>&quot;goldspa01&quot;</td><td>&quot;Gold Glove&quot;</td><td>2017</td><td>&quot;NL&quot;</td><td>null</td><td>&quot;1B&quot;</td></tr><tr><td>&quot;lemahdj01&quot;</td><td>&quot;Gold Glove&quot;</td><td>2017</td><td>&quot;NL&quot;</td><td>null</td><td>&quot;2B&quot;</td></tr><tr><td>&quot;arenano01&quot;</td><td>&quot;Gold Glove&quot;</td><td>2017</td><td>&quot;NL&quot;</td><td>null</td><td>&quot;3B&quot;</td></tr><tr><td>&quot;crawfbr01&quot;</td><td>&quot;Gold Glove&quot;</td><td>2017</td><td>&quot;NL&quot;</td><td>null</td><td>&quot;SS&quot;</td></tr></tbody></table></div>"
      ],
      "text/plain": [
       "shape: (6_797, 6)\n",
       "┌───────────┬───────────────────────────┬────────┬──────┬──────┬───────┐\n",
       "│ playerID  ┆ awardID                   ┆ yearID ┆ lgID ┆ tie  ┆ notes │\n",
       "│ ---       ┆ ---                       ┆ ---    ┆ ---  ┆ ---  ┆ ---   │\n",
       "│ str       ┆ str                       ┆ i64    ┆ str  ┆ str  ┆ str   │\n",
       "╞═══════════╪═══════════════════════════╪════════╪══════╪══════╪═══════╡\n",
       "│ poseybu01 ┆ Lou Gehrig Memorial Award ┆ 2019   ┆ ML   ┆ null ┆ null  │\n",
       "│ klubeco01 ┆ Lou Gehrig Memorial Award ┆ 2018   ┆ ML   ┆ null ┆ null  │\n",
       "│ vottojo01 ┆ Lou Gehrig Memorial Award ┆ 2017   ┆ ML   ┆ null ┆ null  │\n",
       "│ altuvjo01 ┆ Lou Gehrig Memorial Award ┆ 2016   ┆ ML   ┆ null ┆ null  │\n",
       "│ grandcu01 ┆ Lou Gehrig Memorial Award ┆ 2015   ┆ ML   ┆ null ┆ null  │\n",
       "│ …         ┆ …                         ┆ …      ┆ …    ┆ …    ┆ …     │\n",
       "│ barnhtu01 ┆ Gold Glove                ┆ 2017   ┆ NL   ┆ null ┆ C     │\n",
       "│ goldspa01 ┆ Gold Glove                ┆ 2017   ┆ NL   ┆ null ┆ 1B    │\n",
       "│ lemahdj01 ┆ Gold Glove                ┆ 2017   ┆ NL   ┆ null ┆ 2B    │\n",
       "│ arenano01 ┆ Gold Glove                ┆ 2017   ┆ NL   ┆ null ┆ 3B    │\n",
       "│ crawfbr01 ┆ Gold Glove                ┆ 2017   ┆ NL   ┆ null ┆ SS    │\n",
       "└───────────┴───────────────────────────┴────────┴──────┴──────┴───────┘"
      ]
     },
     "execution_count": 155,
     "metadata": {},
     "output_type": "execute_result"
    }
   ],
   "source": [
    "Awards = pl.read_csv(\"./lahman_1871-2023_csv/AwardsPlayers.csv\")\n",
    "Awards"
   ]
  },
  {
   "cell_type": "code",
   "execution_count": 156,
   "id": "5a0fc217-2721-4b3d-9d16-0374ecae21ae",
   "metadata": {},
   "outputs": [
    {
     "data": {
      "text/html": [
       "<div><style>\n",
       ".dataframe > thead > tr,\n",
       ".dataframe > tbody > tr {\n",
       "  text-align: right;\n",
       "  white-space: pre-wrap;\n",
       "}\n",
       "</style>\n",
       "<small>shape: (203, 5)</small><table border=\"1\" class=\"dataframe\"><thead><tr><th>playerID</th><th>yearID</th><th>lgID</th><th>notes</th><th>awardID</th></tr><tr><td>str</td><td>i64</td><td>str</td><td>str</td><td>str</td></tr></thead><tbody><tr><td>&quot;kineris01&quot;</td><td>2020</td><td>&quot;AL&quot;</td><td>&quot;3B&quot;</td><td>&quot;Gold Glove&quot;</td></tr><tr><td>&quot;crawfjp01&quot;</td><td>2020</td><td>&quot;AL&quot;</td><td>&quot;SS&quot;</td><td>&quot;Gold Glove&quot;</td></tr><tr><td>&quot;roberlu01&quot;</td><td>2020</td><td>&quot;AL&quot;</td><td>&quot;LF&quot;</td><td>&quot;Gold Glove&quot;</td></tr><tr><td>&quot;gordoal01&quot;</td><td>2020</td><td>&quot;AL&quot;</td><td>&quot;CF&quot;</td><td>&quot;Gold Glove&quot;</td></tr><tr><td>&quot;gallojo01&quot;</td><td>2020</td><td>&quot;AL&quot;</td><td>&quot;RF&quot;</td><td>&quot;Gold Glove&quot;</td></tr><tr><td>&hellip;</td><td>&hellip;</td><td>&hellip;</td><td>&hellip;</td><td>&hellip;</td></tr><tr><td>&quot;barnhtu01&quot;</td><td>2017</td><td>&quot;NL&quot;</td><td>&quot;C&quot;</td><td>&quot;Gold Glove&quot;</td></tr><tr><td>&quot;goldspa01&quot;</td><td>2017</td><td>&quot;NL&quot;</td><td>&quot;1B&quot;</td><td>&quot;Gold Glove&quot;</td></tr><tr><td>&quot;lemahdj01&quot;</td><td>2017</td><td>&quot;NL&quot;</td><td>&quot;2B&quot;</td><td>&quot;Gold Glove&quot;</td></tr><tr><td>&quot;arenano01&quot;</td><td>2017</td><td>&quot;NL&quot;</td><td>&quot;3B&quot;</td><td>&quot;Gold Glove&quot;</td></tr><tr><td>&quot;crawfbr01&quot;</td><td>2017</td><td>&quot;NL&quot;</td><td>&quot;SS&quot;</td><td>&quot;Gold Glove&quot;</td></tr></tbody></table></div>"
      ],
      "text/plain": [
       "shape: (203, 5)\n",
       "┌───────────┬────────┬──────┬───────┬────────────┐\n",
       "│ playerID  ┆ yearID ┆ lgID ┆ notes ┆ awardID    │\n",
       "│ ---       ┆ ---    ┆ ---  ┆ ---   ┆ ---        │\n",
       "│ str       ┆ i64    ┆ str  ┆ str   ┆ str        │\n",
       "╞═══════════╪════════╪══════╪═══════╪════════════╡\n",
       "│ kineris01 ┆ 2020   ┆ AL   ┆ 3B    ┆ Gold Glove │\n",
       "│ crawfjp01 ┆ 2020   ┆ AL   ┆ SS    ┆ Gold Glove │\n",
       "│ roberlu01 ┆ 2020   ┆ AL   ┆ LF    ┆ Gold Glove │\n",
       "│ gordoal01 ┆ 2020   ┆ AL   ┆ CF    ┆ Gold Glove │\n",
       "│ gallojo01 ┆ 2020   ┆ AL   ┆ RF    ┆ Gold Glove │\n",
       "│ …         ┆ …      ┆ …    ┆ …     ┆ …          │\n",
       "│ barnhtu01 ┆ 2017   ┆ NL   ┆ C     ┆ Gold Glove │\n",
       "│ goldspa01 ┆ 2017   ┆ NL   ┆ 1B    ┆ Gold Glove │\n",
       "│ lemahdj01 ┆ 2017   ┆ NL   ┆ 2B    ┆ Gold Glove │\n",
       "│ arenano01 ┆ 2017   ┆ NL   ┆ 3B    ┆ Gold Glove │\n",
       "│ crawfbr01 ┆ 2017   ┆ NL   ┆ SS    ┆ Gold Glove │\n",
       "└───────────┴────────┴──────┴───────┴────────────┘"
      ]
     },
     "execution_count": 156,
     "metadata": {},
     "output_type": "execute_result"
    }
   ],
   "source": [
    "Awards = (Awards\n",
    "          .select([pl.col('playerID'), pl.col('yearID'), pl.col('lgID'), pl.col('notes'), pl.col('awardID')])\n",
    "          .filter(pl.col('yearID') >= 2013)\n",
    "          .filter(pl.col('awardID') == \"Gold Glove\")\n",
    "         )\n",
    "Awards"
   ]
  },
  {
   "cell_type": "code",
   "execution_count": 157,
   "id": "c5c7970f-ad2a-48a6-8fc6-ca7c829358d5",
   "metadata": {},
   "outputs": [
    {
     "data": {
      "text/html": [
       "<div><style>\n",
       ".dataframe > thead > tr,\n",
       ".dataframe > tbody > tr {\n",
       "  text-align: right;\n",
       "  white-space: pre-wrap;\n",
       "}\n",
       "</style>\n",
       "<small>shape: (151_507, 18)</small><table border=\"1\" class=\"dataframe\"><thead><tr><th>playerID</th><th>yearID</th><th>stint</th><th>teamID</th><th>lgID</th><th>POS</th><th>G</th><th>GS</th><th>InnOuts</th><th>PO</th><th>A</th><th>E</th><th>DP</th><th>PB</th><th>WP</th><th>SB</th><th>CS</th><th>ZR</th></tr><tr><td>str</td><td>i64</td><td>i64</td><td>str</td><td>str</td><td>str</td><td>i64</td><td>i64</td><td>i64</td><td>i64</td><td>i64</td><td>i64</td><td>i64</td><td>str</td><td>str</td><td>str</td><td>str</td><td>str</td></tr></thead><tbody><tr><td>&quot;aardsda01&quot;</td><td>2004</td><td>1</td><td>&quot;SFN&quot;</td><td>&quot;NL&quot;</td><td>&quot;P&quot;</td><td>11</td><td>0</td><td>32</td><td>0</td><td>0</td><td>0</td><td>0</td><td>null</td><td>null</td><td>null</td><td>null</td><td>null</td></tr><tr><td>&quot;aardsda01&quot;</td><td>2006</td><td>1</td><td>&quot;CHN&quot;</td><td>&quot;NL&quot;</td><td>&quot;P&quot;</td><td>45</td><td>0</td><td>159</td><td>1</td><td>5</td><td>0</td><td>1</td><td>null</td><td>null</td><td>null</td><td>null</td><td>null</td></tr><tr><td>&quot;aardsda01&quot;</td><td>2007</td><td>1</td><td>&quot;CHA&quot;</td><td>&quot;AL&quot;</td><td>&quot;P&quot;</td><td>25</td><td>0</td><td>97</td><td>2</td><td>4</td><td>1</td><td>0</td><td>null</td><td>null</td><td>null</td><td>null</td><td>null</td></tr><tr><td>&quot;aardsda01&quot;</td><td>2008</td><td>1</td><td>&quot;BOS&quot;</td><td>&quot;AL&quot;</td><td>&quot;P&quot;</td><td>47</td><td>0</td><td>146</td><td>3</td><td>6</td><td>0</td><td>0</td><td>null</td><td>null</td><td>null</td><td>null</td><td>null</td></tr><tr><td>&quot;aardsda01&quot;</td><td>2009</td><td>1</td><td>&quot;SEA&quot;</td><td>&quot;AL&quot;</td><td>&quot;P&quot;</td><td>73</td><td>0</td><td>214</td><td>2</td><td>5</td><td>0</td><td>1</td><td>null</td><td>null</td><td>null</td><td>null</td><td>null</td></tr><tr><td>&hellip;</td><td>&hellip;</td><td>&hellip;</td><td>&hellip;</td><td>&hellip;</td><td>&hellip;</td><td>&hellip;</td><td>&hellip;</td><td>&hellip;</td><td>&hellip;</td><td>&hellip;</td><td>&hellip;</td><td>&hellip;</td><td>&hellip;</td><td>&hellip;</td><td>&hellip;</td><td>&hellip;</td><td>&hellip;</td></tr><tr><td>&quot;zwilldu01&quot;</td><td>1915</td><td>1</td><td>&quot;CHF&quot;</td><td>&quot;FL&quot;</td><td>&quot;OF&quot;</td><td>148</td><td>null</td><td>null</td><td>356</td><td>20</td><td>8</td><td>6</td><td>null</td><td>null</td><td>null</td><td>null</td><td>null</td></tr><tr><td>&quot;zwilldu01&quot;</td><td>1916</td><td>1</td><td>&quot;CHN&quot;</td><td>&quot;NL&quot;</td><td>&quot;OF&quot;</td><td>10</td><td>null</td><td>null</td><td>11</td><td>0</td><td>0</td><td>0</td><td>null</td><td>null</td><td>null</td><td>null</td><td>null</td></tr><tr><td>&quot;zychto01&quot;</td><td>2015</td><td>1</td><td>&quot;SEA&quot;</td><td>&quot;AL&quot;</td><td>&quot;P&quot;</td><td>13</td><td>1</td><td>55</td><td>0</td><td>3</td><td>0</td><td>0</td><td>null</td><td>null</td><td>null</td><td>null</td><td>null</td></tr><tr><td>&quot;zychto01&quot;</td><td>2016</td><td>1</td><td>&quot;SEA&quot;</td><td>&quot;AL&quot;</td><td>&quot;P&quot;</td><td>12</td><td>0</td><td>41</td><td>0</td><td>0</td><td>1</td><td>0</td><td>null</td><td>null</td><td>null</td><td>null</td><td>null</td></tr><tr><td>&quot;zychto01&quot;</td><td>2017</td><td>1</td><td>&quot;SEA&quot;</td><td>&quot;AL&quot;</td><td>&quot;P&quot;</td><td>45</td><td>0</td><td>122</td><td>1</td><td>3</td><td>0</td><td>0</td><td>null</td><td>null</td><td>null</td><td>null</td><td>null</td></tr></tbody></table></div>"
      ],
      "text/plain": [
       "shape: (151_507, 18)\n",
       "┌───────────┬────────┬───────┬────────┬───┬──────┬──────┬──────┬──────┐\n",
       "│ playerID  ┆ yearID ┆ stint ┆ teamID ┆ … ┆ WP   ┆ SB   ┆ CS   ┆ ZR   │\n",
       "│ ---       ┆ ---    ┆ ---   ┆ ---    ┆   ┆ ---  ┆ ---  ┆ ---  ┆ ---  │\n",
       "│ str       ┆ i64    ┆ i64   ┆ str    ┆   ┆ str  ┆ str  ┆ str  ┆ str  │\n",
       "╞═══════════╪════════╪═══════╪════════╪═══╪══════╪══════╪══════╪══════╡\n",
       "│ aardsda01 ┆ 2004   ┆ 1     ┆ SFN    ┆ … ┆ null ┆ null ┆ null ┆ null │\n",
       "│ aardsda01 ┆ 2006   ┆ 1     ┆ CHN    ┆ … ┆ null ┆ null ┆ null ┆ null │\n",
       "│ aardsda01 ┆ 2007   ┆ 1     ┆ CHA    ┆ … ┆ null ┆ null ┆ null ┆ null │\n",
       "│ aardsda01 ┆ 2008   ┆ 1     ┆ BOS    ┆ … ┆ null ┆ null ┆ null ┆ null │\n",
       "│ aardsda01 ┆ 2009   ┆ 1     ┆ SEA    ┆ … ┆ null ┆ null ┆ null ┆ null │\n",
       "│ …         ┆ …      ┆ …     ┆ …      ┆ … ┆ …    ┆ …    ┆ …    ┆ …    │\n",
       "│ zwilldu01 ┆ 1915   ┆ 1     ┆ CHF    ┆ … ┆ null ┆ null ┆ null ┆ null │\n",
       "│ zwilldu01 ┆ 1916   ┆ 1     ┆ CHN    ┆ … ┆ null ┆ null ┆ null ┆ null │\n",
       "│ zychto01  ┆ 2015   ┆ 1     ┆ SEA    ┆ … ┆ null ┆ null ┆ null ┆ null │\n",
       "│ zychto01  ┆ 2016   ┆ 1     ┆ SEA    ┆ … ┆ null ┆ null ┆ null ┆ null │\n",
       "│ zychto01  ┆ 2017   ┆ 1     ┆ SEA    ┆ … ┆ null ┆ null ┆ null ┆ null │\n",
       "└───────────┴────────┴───────┴────────┴───┴──────┴──────┴──────┴──────┘"
      ]
     },
     "execution_count": 157,
     "metadata": {},
     "output_type": "execute_result"
    }
   ],
   "source": [
    "Fielding = pl.read_csv(\"./lahman_1871-2023_csv/Fielding.csv\")\n",
    "Fielding"
   ]
  },
  {
   "cell_type": "code",
   "execution_count": 158,
   "id": "b2492b9e-5fd8-4283-a685-6196dfab8b68",
   "metadata": {},
   "outputs": [
    {
     "data": {
      "text/html": [
       "<div><style>\n",
       ".dataframe > thead > tr,\n",
       ".dataframe > tbody > tr {\n",
       "  text-align: right;\n",
       "  white-space: pre-wrap;\n",
       "}\n",
       "</style>\n",
       "<small>shape: (21_356, 16)</small><table border=\"1\" class=\"dataframe\"><thead><tr><th>playerID</th><th>yearID</th><th>lgID</th><th>POS</th><th>total_G</th><th>total_GS</th><th>total_InnOuts</th><th>total_PO</th><th>total_A</th><th>total_E</th><th>total_DP</th><th>total_PB</th><th>total_WP</th><th>total_SB</th><th>total_CS</th><th>total_ZR</th></tr><tr><td>str</td><td>i64</td><td>str</td><td>str</td><td>i64</td><td>i64</td><td>i64</td><td>i64</td><td>i64</td><td>i64</td><td>i64</td><td>str</td><td>str</td><td>str</td><td>str</td><td>str</td></tr></thead><tbody><tr><td>&quot;morgany01&quot;</td><td>2014</td><td>&quot;AL&quot;</td><td>&quot;OF&quot;</td><td>14</td><td>12</td><td>309</td><td>23</td><td>0</td><td>0</td><td>0</td><td>null</td><td>null</td><td>null</td><td>null</td><td>null</td></tr><tr><td>&quot;ramirha02&quot;</td><td>2021</td><td>&quot;AL&quot;</td><td>&quot;OF&quot;</td><td>93</td><td>90</td><td>2256</td><td>183</td><td>0</td><td>2</td><td>0</td><td>null</td><td>null</td><td>null</td><td>null</td><td>null</td></tr><tr><td>&quot;woodrbr01&quot;</td><td>2018</td><td>&quot;NL&quot;</td><td>&quot;P&quot;</td><td>19</td><td>4</td><td>127</td><td>4</td><td>5</td><td>1</td><td>1</td><td>null</td><td>null</td><td>null</td><td>null</td><td>null</td></tr><tr><td>&quot;tejadru01&quot;</td><td>2015</td><td>&quot;NL&quot;</td><td>&quot;3B&quot;</td><td>19</td><td>18</td><td>469</td><td>14</td><td>36</td><td>2</td><td>4</td><td>null</td><td>null</td><td>null</td><td>null</td><td>null</td></tr><tr><td>&quot;dudalu01&quot;</td><td>2017</td><td>&quot;AL&quot;</td><td>&quot;1B&quot;</td><td>24</td><td>23</td><td>585</td><td>165</td><td>10</td><td>2</td><td>9</td><td>null</td><td>null</td><td>null</td><td>null</td><td>null</td></tr><tr><td>&hellip;</td><td>&hellip;</td><td>&hellip;</td><td>&hellip;</td><td>&hellip;</td><td>&hellip;</td><td>&hellip;</td><td>&hellip;</td><td>&hellip;</td><td>&hellip;</td><td>&hellip;</td><td>&hellip;</td><td>&hellip;</td><td>&hellip;</td><td>&hellip;</td><td>&hellip;</td></tr><tr><td>&quot;cannigr01&quot;</td><td>2021</td><td>&quot;AL&quot;</td><td>&quot;OF&quot;</td><td>1</td><td>0</td><td>6</td><td>0</td><td>0</td><td>0</td><td>0</td><td>null</td><td>null</td><td>null</td><td>null</td><td>null</td></tr><tr><td>&quot;wahlbo01&quot;</td><td>2018</td><td>&quot;NL&quot;</td><td>&quot;P&quot;</td><td>7</td><td>0</td><td>16</td><td>0</td><td>0</td><td>0</td><td>0</td><td>null</td><td>null</td><td>null</td><td>null</td><td>null</td></tr><tr><td>&quot;lambeji01&quot;</td><td>2020</td><td>&quot;AL&quot;</td><td>&quot;P&quot;</td><td>2</td><td>0</td><td>6</td><td>0</td><td>1</td><td>0</td><td>0</td><td>null</td><td>null</td><td>null</td><td>null</td><td>null</td></tr><tr><td>&quot;wheelza01&quot;</td><td>2023</td><td>&quot;NL&quot;</td><td>&quot;P&quot;</td><td>32</td><td>32</td><td>576</td><td>16</td><td>15</td><td>1</td><td>1</td><td>null</td><td>null</td><td>null</td><td>null</td><td>null</td></tr><tr><td>&quot;gennesc01&quot;</td><td>2018</td><td>&quot;NL&quot;</td><td>&quot;2B&quot;</td><td>142</td><td>140</td><td>3630</td><td>280</td><td>374</td><td>11</td><td>101</td><td>null</td><td>null</td><td>null</td><td>null</td><td>null</td></tr></tbody></table></div>"
      ],
      "text/plain": [
       "shape: (21_356, 16)\n",
       "┌───────────┬────────┬──────┬─────┬───┬──────────┬──────────┬──────────┬──────────┐\n",
       "│ playerID  ┆ yearID ┆ lgID ┆ POS ┆ … ┆ total_WP ┆ total_SB ┆ total_CS ┆ total_ZR │\n",
       "│ ---       ┆ ---    ┆ ---  ┆ --- ┆   ┆ ---      ┆ ---      ┆ ---      ┆ ---      │\n",
       "│ str       ┆ i64    ┆ str  ┆ str ┆   ┆ str      ┆ str      ┆ str      ┆ str      │\n",
       "╞═══════════╪════════╪══════╪═════╪═══╪══════════╪══════════╪══════════╪══════════╡\n",
       "│ morgany01 ┆ 2014   ┆ AL   ┆ OF  ┆ … ┆ null     ┆ null     ┆ null     ┆ null     │\n",
       "│ ramirha02 ┆ 2021   ┆ AL   ┆ OF  ┆ … ┆ null     ┆ null     ┆ null     ┆ null     │\n",
       "│ woodrbr01 ┆ 2018   ┆ NL   ┆ P   ┆ … ┆ null     ┆ null     ┆ null     ┆ null     │\n",
       "│ tejadru01 ┆ 2015   ┆ NL   ┆ 3B  ┆ … ┆ null     ┆ null     ┆ null     ┆ null     │\n",
       "│ dudalu01  ┆ 2017   ┆ AL   ┆ 1B  ┆ … ┆ null     ┆ null     ┆ null     ┆ null     │\n",
       "│ …         ┆ …      ┆ …    ┆ …   ┆ … ┆ …        ┆ …        ┆ …        ┆ …        │\n",
       "│ cannigr01 ┆ 2021   ┆ AL   ┆ OF  ┆ … ┆ null     ┆ null     ┆ null     ┆ null     │\n",
       "│ wahlbo01  ┆ 2018   ┆ NL   ┆ P   ┆ … ┆ null     ┆ null     ┆ null     ┆ null     │\n",
       "│ lambeji01 ┆ 2020   ┆ AL   ┆ P   ┆ … ┆ null     ┆ null     ┆ null     ┆ null     │\n",
       "│ wheelza01 ┆ 2023   ┆ NL   ┆ P   ┆ … ┆ null     ┆ null     ┆ null     ┆ null     │\n",
       "│ gennesc01 ┆ 2018   ┆ NL   ┆ 2B  ┆ … ┆ null     ┆ null     ┆ null     ┆ null     │\n",
       "└───────────┴────────┴──────┴─────┴───┴──────────┴──────────┴──────────┴──────────┘"
      ]
     },
     "execution_count": 158,
     "metadata": {},
     "output_type": "execute_result"
    }
   ],
   "source": [
    "Fielding_1 = (Fielding\n",
    "          .select([pl.col('playerID'), pl.col('yearID'), pl.col('lgID'), pl.col('POS'), pl.col('G'), pl.col('GS'), pl.col('InnOuts'), pl.col('PO'), pl.col('A'), pl.col('E'),\n",
    "                pl.col('DP'), pl.col('PB'), pl.col('WP'), pl.col('SB'), pl.col('CS'), pl.col('ZR')])\n",
    "            .filter((pl.col('yearID') >= 2013))\n",
    "            .group_by(pl.col('playerID'), pl.col('yearID'), pl.col('lgID'), pl.col('POS'))  \n",
    "            .agg([pl.col('G').sum().alias('total_G'),\n",
    "            pl.col('GS').sum().alias('total_GS'),\n",
    "            pl.col('InnOuts').sum().alias('total_InnOuts'),\n",
    "            pl.col('PO').sum().alias('total_PO'),\n",
    "            pl.col('A').sum().alias('total_A'),\n",
    "            pl.col('E').sum().alias('total_E'),\n",
    "            pl.col('DP').sum().alias('total_DP'),\n",
    "            pl.col('PB').sum().alias('total_PB'),\n",
    "            pl.col('WP').sum().alias('total_WP'),\n",
    "            pl.col('SB').sum().alias('total_SB'),\n",
    "            pl.col('CS').sum().alias('total_CS'),\n",
    "            pl.col('ZR').sum().alias('total_ZR')])\n",
    "         )\n",
    "Fielding_1"
   ]
  },
  {
   "cell_type": "code",
   "execution_count": 159,
   "id": "8492f774-ae56-4195-abff-569b35ee2e34",
   "metadata": {},
   "outputs": [
    {
     "data": {
      "text/html": [
       "<div><style>\n",
       ".dataframe > thead > tr,\n",
       ".dataframe > tbody > tr {\n",
       "  text-align: right;\n",
       "  white-space: pre-wrap;\n",
       "}\n",
       "</style>\n",
       "<small>shape: (21_356, 18)</small><table border=\"1\" class=\"dataframe\"><thead><tr><th>notes</th><th>awardID</th><th>playerID</th><th>yearID</th><th>lgID</th><th>POS</th><th>total_G</th><th>total_GS</th><th>total_InnOuts</th><th>total_PO</th><th>total_A</th><th>total_E</th><th>total_DP</th><th>total_PB</th><th>total_WP</th><th>total_SB</th><th>total_CS</th><th>total_ZR</th></tr><tr><td>str</td><td>str</td><td>str</td><td>i64</td><td>str</td><td>str</td><td>i64</td><td>i64</td><td>i64</td><td>i64</td><td>i64</td><td>i64</td><td>i64</td><td>str</td><td>str</td><td>str</td><td>str</td><td>str</td></tr></thead><tbody><tr><td>null</td><td>null</td><td>&quot;morgany01&quot;</td><td>2014</td><td>&quot;AL&quot;</td><td>&quot;OF&quot;</td><td>14</td><td>12</td><td>309</td><td>23</td><td>0</td><td>0</td><td>0</td><td>null</td><td>null</td><td>null</td><td>null</td><td>null</td></tr><tr><td>null</td><td>null</td><td>&quot;ramirha02&quot;</td><td>2021</td><td>&quot;AL&quot;</td><td>&quot;OF&quot;</td><td>93</td><td>90</td><td>2256</td><td>183</td><td>0</td><td>2</td><td>0</td><td>null</td><td>null</td><td>null</td><td>null</td><td>null</td></tr><tr><td>null</td><td>null</td><td>&quot;woodrbr01&quot;</td><td>2018</td><td>&quot;NL&quot;</td><td>&quot;P&quot;</td><td>19</td><td>4</td><td>127</td><td>4</td><td>5</td><td>1</td><td>1</td><td>null</td><td>null</td><td>null</td><td>null</td><td>null</td></tr><tr><td>null</td><td>null</td><td>&quot;tejadru01&quot;</td><td>2015</td><td>&quot;NL&quot;</td><td>&quot;3B&quot;</td><td>19</td><td>18</td><td>469</td><td>14</td><td>36</td><td>2</td><td>4</td><td>null</td><td>null</td><td>null</td><td>null</td><td>null</td></tr><tr><td>null</td><td>null</td><td>&quot;dudalu01&quot;</td><td>2017</td><td>&quot;AL&quot;</td><td>&quot;1B&quot;</td><td>24</td><td>23</td><td>585</td><td>165</td><td>10</td><td>2</td><td>9</td><td>null</td><td>null</td><td>null</td><td>null</td><td>null</td></tr><tr><td>&hellip;</td><td>&hellip;</td><td>&hellip;</td><td>&hellip;</td><td>&hellip;</td><td>&hellip;</td><td>&hellip;</td><td>&hellip;</td><td>&hellip;</td><td>&hellip;</td><td>&hellip;</td><td>&hellip;</td><td>&hellip;</td><td>&hellip;</td><td>&hellip;</td><td>&hellip;</td><td>&hellip;</td><td>&hellip;</td></tr><tr><td>null</td><td>null</td><td>&quot;cannigr01&quot;</td><td>2021</td><td>&quot;AL&quot;</td><td>&quot;OF&quot;</td><td>1</td><td>0</td><td>6</td><td>0</td><td>0</td><td>0</td><td>0</td><td>null</td><td>null</td><td>null</td><td>null</td><td>null</td></tr><tr><td>null</td><td>null</td><td>&quot;wahlbo01&quot;</td><td>2018</td><td>&quot;NL&quot;</td><td>&quot;P&quot;</td><td>7</td><td>0</td><td>16</td><td>0</td><td>0</td><td>0</td><td>0</td><td>null</td><td>null</td><td>null</td><td>null</td><td>null</td></tr><tr><td>null</td><td>null</td><td>&quot;lambeji01&quot;</td><td>2020</td><td>&quot;AL&quot;</td><td>&quot;P&quot;</td><td>2</td><td>0</td><td>6</td><td>0</td><td>1</td><td>0</td><td>0</td><td>null</td><td>null</td><td>null</td><td>null</td><td>null</td></tr><tr><td>&quot;P&quot;</td><td>&quot;Gold Glove&quot;</td><td>&quot;wheelza01&quot;</td><td>2023</td><td>&quot;NL&quot;</td><td>&quot;P&quot;</td><td>32</td><td>32</td><td>576</td><td>16</td><td>15</td><td>1</td><td>1</td><td>null</td><td>null</td><td>null</td><td>null</td><td>null</td></tr><tr><td>null</td><td>null</td><td>&quot;gennesc01&quot;</td><td>2018</td><td>&quot;NL&quot;</td><td>&quot;2B&quot;</td><td>142</td><td>140</td><td>3630</td><td>280</td><td>374</td><td>11</td><td>101</td><td>null</td><td>null</td><td>null</td><td>null</td><td>null</td></tr></tbody></table></div>"
      ],
      "text/plain": [
       "shape: (21_356, 18)\n",
       "┌───────┬────────────┬───────────┬────────┬───┬──────────┬──────────┬──────────┬──────────┐\n",
       "│ notes ┆ awardID    ┆ playerID  ┆ yearID ┆ … ┆ total_WP ┆ total_SB ┆ total_CS ┆ total_ZR │\n",
       "│ ---   ┆ ---        ┆ ---       ┆ ---    ┆   ┆ ---      ┆ ---      ┆ ---      ┆ ---      │\n",
       "│ str   ┆ str        ┆ str       ┆ i64    ┆   ┆ str      ┆ str      ┆ str      ┆ str      │\n",
       "╞═══════╪════════════╪═══════════╪════════╪═══╪══════════╪══════════╪══════════╪══════════╡\n",
       "│ null  ┆ null       ┆ morgany01 ┆ 2014   ┆ … ┆ null     ┆ null     ┆ null     ┆ null     │\n",
       "│ null  ┆ null       ┆ ramirha02 ┆ 2021   ┆ … ┆ null     ┆ null     ┆ null     ┆ null     │\n",
       "│ null  ┆ null       ┆ woodrbr01 ┆ 2018   ┆ … ┆ null     ┆ null     ┆ null     ┆ null     │\n",
       "│ null  ┆ null       ┆ tejadru01 ┆ 2015   ┆ … ┆ null     ┆ null     ┆ null     ┆ null     │\n",
       "│ null  ┆ null       ┆ dudalu01  ┆ 2017   ┆ … ┆ null     ┆ null     ┆ null     ┆ null     │\n",
       "│ …     ┆ …          ┆ …         ┆ …      ┆ … ┆ …        ┆ …        ┆ …        ┆ …        │\n",
       "│ null  ┆ null       ┆ cannigr01 ┆ 2021   ┆ … ┆ null     ┆ null     ┆ null     ┆ null     │\n",
       "│ null  ┆ null       ┆ wahlbo01  ┆ 2018   ┆ … ┆ null     ┆ null     ┆ null     ┆ null     │\n",
       "│ null  ┆ null       ┆ lambeji01 ┆ 2020   ┆ … ┆ null     ┆ null     ┆ null     ┆ null     │\n",
       "│ P     ┆ Gold Glove ┆ wheelza01 ┆ 2023   ┆ … ┆ null     ┆ null     ┆ null     ┆ null     │\n",
       "│ null  ┆ null       ┆ gennesc01 ┆ 2018   ┆ … ┆ null     ┆ null     ┆ null     ┆ null     │\n",
       "└───────┴────────────┴───────────┴────────┴───┴──────────┴──────────┴──────────┴──────────┘"
      ]
     },
     "execution_count": 159,
     "metadata": {},
     "output_type": "execute_result"
    }
   ],
   "source": [
    "Gold_Glove = (Awards \n",
    "                       .join(Fielding_1, on=['playerID','yearID','lgID'], how='right')\n",
    "                      )\n",
    "Gold_Glove"
   ]
  },
  {
   "cell_type": "code",
   "execution_count": 160,
   "id": "057cd32d-0653-4c99-b1e2-4d5da07c4517",
   "metadata": {},
   "outputs": [
    {
     "data": {
      "text/html": [
       "<div><style>\n",
       ".dataframe > thead > tr,\n",
       ".dataframe > tbody > tr {\n",
       "  text-align: right;\n",
       "  white-space: pre-wrap;\n",
       "}\n",
       "</style>\n",
       "<small>shape: (21_356, 19)</small><table border=\"1\" class=\"dataframe\"><thead><tr><th>notes</th><th>awardID</th><th>playerID</th><th>yearID</th><th>lgID</th><th>POS</th><th>total_G</th><th>total_GS</th><th>total_InnOuts</th><th>total_PO</th><th>total_A</th><th>total_E</th><th>total_DP</th><th>total_PB</th><th>total_WP</th><th>total_SB</th><th>total_CS</th><th>total_ZR</th><th>Training_Validation</th></tr><tr><td>str</td><td>str</td><td>str</td><td>i64</td><td>str</td><td>str</td><td>i64</td><td>i64</td><td>i64</td><td>i64</td><td>i64</td><td>i64</td><td>i64</td><td>str</td><td>str</td><td>str</td><td>str</td><td>str</td><td>str</td></tr></thead><tbody><tr><td>null</td><td>null</td><td>&quot;morgany01&quot;</td><td>2014</td><td>&quot;AL&quot;</td><td>&quot;OF&quot;</td><td>14</td><td>12</td><td>309</td><td>23</td><td>0</td><td>0</td><td>0</td><td>null</td><td>null</td><td>null</td><td>null</td><td>null</td><td>&quot;Training&quot;</td></tr><tr><td>null</td><td>null</td><td>&quot;ramirha02&quot;</td><td>2021</td><td>&quot;AL&quot;</td><td>&quot;OF&quot;</td><td>93</td><td>90</td><td>2256</td><td>183</td><td>0</td><td>2</td><td>0</td><td>null</td><td>null</td><td>null</td><td>null</td><td>null</td><td>&quot;Training&quot;</td></tr><tr><td>null</td><td>null</td><td>&quot;woodrbr01&quot;</td><td>2018</td><td>&quot;NL&quot;</td><td>&quot;P&quot;</td><td>19</td><td>4</td><td>127</td><td>4</td><td>5</td><td>1</td><td>1</td><td>null</td><td>null</td><td>null</td><td>null</td><td>null</td><td>&quot;Training&quot;</td></tr><tr><td>null</td><td>null</td><td>&quot;tejadru01&quot;</td><td>2015</td><td>&quot;NL&quot;</td><td>&quot;3B&quot;</td><td>19</td><td>18</td><td>469</td><td>14</td><td>36</td><td>2</td><td>4</td><td>null</td><td>null</td><td>null</td><td>null</td><td>null</td><td>&quot;Training&quot;</td></tr><tr><td>null</td><td>null</td><td>&quot;dudalu01&quot;</td><td>2017</td><td>&quot;AL&quot;</td><td>&quot;1B&quot;</td><td>24</td><td>23</td><td>585</td><td>165</td><td>10</td><td>2</td><td>9</td><td>null</td><td>null</td><td>null</td><td>null</td><td>null</td><td>&quot;Training&quot;</td></tr><tr><td>&hellip;</td><td>&hellip;</td><td>&hellip;</td><td>&hellip;</td><td>&hellip;</td><td>&hellip;</td><td>&hellip;</td><td>&hellip;</td><td>&hellip;</td><td>&hellip;</td><td>&hellip;</td><td>&hellip;</td><td>&hellip;</td><td>&hellip;</td><td>&hellip;</td><td>&hellip;</td><td>&hellip;</td><td>&hellip;</td><td>&hellip;</td></tr><tr><td>null</td><td>null</td><td>&quot;cannigr01&quot;</td><td>2021</td><td>&quot;AL&quot;</td><td>&quot;OF&quot;</td><td>1</td><td>0</td><td>6</td><td>0</td><td>0</td><td>0</td><td>0</td><td>null</td><td>null</td><td>null</td><td>null</td><td>null</td><td>&quot;Training&quot;</td></tr><tr><td>null</td><td>null</td><td>&quot;wahlbo01&quot;</td><td>2018</td><td>&quot;NL&quot;</td><td>&quot;P&quot;</td><td>7</td><td>0</td><td>16</td><td>0</td><td>0</td><td>0</td><td>0</td><td>null</td><td>null</td><td>null</td><td>null</td><td>null</td><td>&quot;Training&quot;</td></tr><tr><td>null</td><td>null</td><td>&quot;lambeji01&quot;</td><td>2020</td><td>&quot;AL&quot;</td><td>&quot;P&quot;</td><td>2</td><td>0</td><td>6</td><td>0</td><td>1</td><td>0</td><td>0</td><td>null</td><td>null</td><td>null</td><td>null</td><td>null</td><td>&quot;Validation&quot;</td></tr><tr><td>&quot;P&quot;</td><td>&quot;Gold Glove&quot;</td><td>&quot;wheelza01&quot;</td><td>2023</td><td>&quot;NL&quot;</td><td>&quot;P&quot;</td><td>32</td><td>32</td><td>576</td><td>16</td><td>15</td><td>1</td><td>1</td><td>null</td><td>null</td><td>null</td><td>null</td><td>null</td><td>&quot;Training&quot;</td></tr><tr><td>null</td><td>null</td><td>&quot;gennesc01&quot;</td><td>2018</td><td>&quot;NL&quot;</td><td>&quot;2B&quot;</td><td>142</td><td>140</td><td>3630</td><td>280</td><td>374</td><td>11</td><td>101</td><td>null</td><td>null</td><td>null</td><td>null</td><td>null</td><td>&quot;Training&quot;</td></tr></tbody></table></div>"
      ],
      "text/plain": [
       "shape: (21_356, 19)\n",
       "┌───────┬────────────┬───────────┬────────┬───┬──────────┬──────────┬──────────┬───────────────────┐\n",
       "│ notes ┆ awardID    ┆ playerID  ┆ yearID ┆ … ┆ total_SB ┆ total_CS ┆ total_ZR ┆ Training_Validati │\n",
       "│ ---   ┆ ---        ┆ ---       ┆ ---    ┆   ┆ ---      ┆ ---      ┆ ---      ┆ on                │\n",
       "│ str   ┆ str        ┆ str       ┆ i64    ┆   ┆ str      ┆ str      ┆ str      ┆ ---               │\n",
       "│       ┆            ┆           ┆        ┆   ┆          ┆          ┆          ┆ str               │\n",
       "╞═══════╪════════════╪═══════════╪════════╪═══╪══════════╪══════════╪══════════╪═══════════════════╡\n",
       "│ null  ┆ null       ┆ morgany01 ┆ 2014   ┆ … ┆ null     ┆ null     ┆ null     ┆ Training          │\n",
       "│ null  ┆ null       ┆ ramirha02 ┆ 2021   ┆ … ┆ null     ┆ null     ┆ null     ┆ Training          │\n",
       "│ null  ┆ null       ┆ woodrbr01 ┆ 2018   ┆ … ┆ null     ┆ null     ┆ null     ┆ Training          │\n",
       "│ null  ┆ null       ┆ tejadru01 ┆ 2015   ┆ … ┆ null     ┆ null     ┆ null     ┆ Training          │\n",
       "│ null  ┆ null       ┆ dudalu01  ┆ 2017   ┆ … ┆ null     ┆ null     ┆ null     ┆ Training          │\n",
       "│ …     ┆ …          ┆ …         ┆ …      ┆ … ┆ …        ┆ …        ┆ …        ┆ …                 │\n",
       "│ null  ┆ null       ┆ cannigr01 ┆ 2021   ┆ … ┆ null     ┆ null     ┆ null     ┆ Training          │\n",
       "│ null  ┆ null       ┆ wahlbo01  ┆ 2018   ┆ … ┆ null     ┆ null     ┆ null     ┆ Training          │\n",
       "│ null  ┆ null       ┆ lambeji01 ┆ 2020   ┆ … ┆ null     ┆ null     ┆ null     ┆ Validation        │\n",
       "│ P     ┆ Gold Glove ┆ wheelza01 ┆ 2023   ┆ … ┆ null     ┆ null     ┆ null     ┆ Training          │\n",
       "│ null  ┆ null       ┆ gennesc01 ┆ 2018   ┆ … ┆ null     ┆ null     ┆ null     ┆ Training          │\n",
       "└───────┴────────────┴───────────┴────────┴───┴──────────┴──────────┴──────────┴───────────────────┘"
      ]
     },
     "execution_count": 160,
     "metadata": {},
     "output_type": "execute_result"
    }
   ],
   "source": [
    "Gold_Glove = Gold_Glove.with_columns(\n",
    "    pl.when(pl.col(\"yearID\") == 2020)\n",
    "      .then(pl.lit(\"Validation\"))\n",
    "      .otherwise(pl.lit(\"Training\"))\n",
    "      .alias(\"Training_Validation\")\n",
    ")\n",
    "Gold_Glove"
   ]
  },
  {
   "cell_type": "code",
   "execution_count": 161,
   "id": "8dbfd6d5-96ea-46dd-982f-a191bd196a17",
   "metadata": {},
   "outputs": [],
   "source": [
    "#Salary Code"
   ]
  },
  {
   "cell_type": "code",
   "execution_count": 162,
   "id": "967d8323-9f92-4ac5-b4b1-e001c3c720ce",
   "metadata": {},
   "outputs": [
    {
     "data": {
      "text/html": [
       "<div><style>\n",
       ".dataframe > thead > tr,\n",
       ".dataframe > tbody > tr {\n",
       "  text-align: right;\n",
       "  white-space: pre-wrap;\n",
       "}\n",
       "</style>\n",
       "<small>shape: (113_799, 24)</small><table border=\"1\" class=\"dataframe\"><thead><tr><th>playerID</th><th>yearID</th><th>stint</th><th>teamID</th><th>lgID</th><th>G</th><th>G_batting</th><th>AB</th><th>R</th><th>H</th><th>2B</th><th>3B</th><th>HR</th><th>RBI</th><th>SB</th><th>CS</th><th>BB</th><th>SO</th><th>IBB</th><th>HBP</th><th>SH</th><th>SF</th><th>GIDP</th><th>G_old</th></tr><tr><td>str</td><td>i64</td><td>i64</td><td>str</td><td>str</td><td>i64</td><td>i64</td><td>i64</td><td>i64</td><td>i64</td><td>i64</td><td>i64</td><td>i64</td><td>i64</td><td>i64</td><td>i64</td><td>i64</td><td>i64</td><td>i64</td><td>i64</td><td>i64</td><td>i64</td><td>i64</td><td>str</td></tr></thead><tbody><tr><td>&quot;aardsda01&quot;</td><td>2004</td><td>1</td><td>&quot;SFN&quot;</td><td>&quot;NL&quot;</td><td>11</td><td>null</td><td>0</td><td>0</td><td>0</td><td>0</td><td>0</td><td>0</td><td>0</td><td>0</td><td>0</td><td>0</td><td>0</td><td>0</td><td>0</td><td>0</td><td>0</td><td>0</td><td>null</td></tr><tr><td>&quot;aardsda01&quot;</td><td>2006</td><td>1</td><td>&quot;CHN&quot;</td><td>&quot;NL&quot;</td><td>45</td><td>null</td><td>2</td><td>0</td><td>0</td><td>0</td><td>0</td><td>0</td><td>0</td><td>0</td><td>0</td><td>0</td><td>0</td><td>0</td><td>0</td><td>1</td><td>0</td><td>0</td><td>null</td></tr><tr><td>&quot;aardsda01&quot;</td><td>2007</td><td>1</td><td>&quot;CHA&quot;</td><td>&quot;AL&quot;</td><td>25</td><td>null</td><td>0</td><td>0</td><td>0</td><td>0</td><td>0</td><td>0</td><td>0</td><td>0</td><td>0</td><td>0</td><td>0</td><td>0</td><td>0</td><td>0</td><td>0</td><td>0</td><td>null</td></tr><tr><td>&quot;aardsda01&quot;</td><td>2008</td><td>1</td><td>&quot;BOS&quot;</td><td>&quot;AL&quot;</td><td>47</td><td>null</td><td>1</td><td>0</td><td>0</td><td>0</td><td>0</td><td>0</td><td>0</td><td>0</td><td>0</td><td>0</td><td>1</td><td>0</td><td>0</td><td>0</td><td>0</td><td>0</td><td>null</td></tr><tr><td>&quot;aardsda01&quot;</td><td>2009</td><td>1</td><td>&quot;SEA&quot;</td><td>&quot;AL&quot;</td><td>73</td><td>null</td><td>0</td><td>0</td><td>0</td><td>0</td><td>0</td><td>0</td><td>0</td><td>0</td><td>0</td><td>0</td><td>0</td><td>0</td><td>0</td><td>0</td><td>0</td><td>0</td><td>null</td></tr><tr><td>&hellip;</td><td>&hellip;</td><td>&hellip;</td><td>&hellip;</td><td>&hellip;</td><td>&hellip;</td><td>&hellip;</td><td>&hellip;</td><td>&hellip;</td><td>&hellip;</td><td>&hellip;</td><td>&hellip;</td><td>&hellip;</td><td>&hellip;</td><td>&hellip;</td><td>&hellip;</td><td>&hellip;</td><td>&hellip;</td><td>&hellip;</td><td>&hellip;</td><td>&hellip;</td><td>&hellip;</td><td>&hellip;</td><td>&hellip;</td></tr><tr><td>&quot;zwilldu01&quot;</td><td>1915</td><td>1</td><td>&quot;CHF&quot;</td><td>&quot;FL&quot;</td><td>150</td><td>null</td><td>548</td><td>65</td><td>157</td><td>32</td><td>7</td><td>13</td><td>94</td><td>24</td><td>null</td><td>67</td><td>65</td><td>null</td><td>2</td><td>18</td><td>null</td><td>null</td><td>null</td></tr><tr><td>&quot;zwilldu01&quot;</td><td>1916</td><td>1</td><td>&quot;CHN&quot;</td><td>&quot;NL&quot;</td><td>35</td><td>null</td><td>53</td><td>4</td><td>6</td><td>1</td><td>0</td><td>1</td><td>8</td><td>0</td><td>null</td><td>4</td><td>6</td><td>null</td><td>0</td><td>2</td><td>null</td><td>null</td><td>null</td></tr><tr><td>&quot;zychto01&quot;</td><td>2015</td><td>1</td><td>&quot;SEA&quot;</td><td>&quot;AL&quot;</td><td>13</td><td>null</td><td>0</td><td>0</td><td>0</td><td>0</td><td>0</td><td>0</td><td>0</td><td>0</td><td>0</td><td>0</td><td>0</td><td>0</td><td>0</td><td>0</td><td>0</td><td>0</td><td>null</td></tr><tr><td>&quot;zychto01&quot;</td><td>2016</td><td>1</td><td>&quot;SEA&quot;</td><td>&quot;AL&quot;</td><td>12</td><td>null</td><td>0</td><td>0</td><td>0</td><td>0</td><td>0</td><td>0</td><td>0</td><td>0</td><td>0</td><td>0</td><td>0</td><td>0</td><td>0</td><td>0</td><td>0</td><td>0</td><td>null</td></tr><tr><td>&quot;zychto01&quot;</td><td>2017</td><td>1</td><td>&quot;SEA&quot;</td><td>&quot;AL&quot;</td><td>45</td><td>null</td><td>0</td><td>0</td><td>0</td><td>0</td><td>0</td><td>0</td><td>0</td><td>0</td><td>0</td><td>0</td><td>0</td><td>0</td><td>0</td><td>0</td><td>0</td><td>0</td><td>null</td></tr></tbody></table></div>"
      ],
      "text/plain": [
       "shape: (113_799, 24)\n",
       "┌───────────┬────────┬───────┬────────┬───┬─────┬──────┬──────┬───────┐\n",
       "│ playerID  ┆ yearID ┆ stint ┆ teamID ┆ … ┆ SH  ┆ SF   ┆ GIDP ┆ G_old │\n",
       "│ ---       ┆ ---    ┆ ---   ┆ ---    ┆   ┆ --- ┆ ---  ┆ ---  ┆ ---   │\n",
       "│ str       ┆ i64    ┆ i64   ┆ str    ┆   ┆ i64 ┆ i64  ┆ i64  ┆ str   │\n",
       "╞═══════════╪════════╪═══════╪════════╪═══╪═════╪══════╪══════╪═══════╡\n",
       "│ aardsda01 ┆ 2004   ┆ 1     ┆ SFN    ┆ … ┆ 0   ┆ 0    ┆ 0    ┆ null  │\n",
       "│ aardsda01 ┆ 2006   ┆ 1     ┆ CHN    ┆ … ┆ 1   ┆ 0    ┆ 0    ┆ null  │\n",
       "│ aardsda01 ┆ 2007   ┆ 1     ┆ CHA    ┆ … ┆ 0   ┆ 0    ┆ 0    ┆ null  │\n",
       "│ aardsda01 ┆ 2008   ┆ 1     ┆ BOS    ┆ … ┆ 0   ┆ 0    ┆ 0    ┆ null  │\n",
       "│ aardsda01 ┆ 2009   ┆ 1     ┆ SEA    ┆ … ┆ 0   ┆ 0    ┆ 0    ┆ null  │\n",
       "│ …         ┆ …      ┆ …     ┆ …      ┆ … ┆ …   ┆ …    ┆ …    ┆ …     │\n",
       "│ zwilldu01 ┆ 1915   ┆ 1     ┆ CHF    ┆ … ┆ 18  ┆ null ┆ null ┆ null  │\n",
       "│ zwilldu01 ┆ 1916   ┆ 1     ┆ CHN    ┆ … ┆ 2   ┆ null ┆ null ┆ null  │\n",
       "│ zychto01  ┆ 2015   ┆ 1     ┆ SEA    ┆ … ┆ 0   ┆ 0    ┆ 0    ┆ null  │\n",
       "│ zychto01  ┆ 2016   ┆ 1     ┆ SEA    ┆ … ┆ 0   ┆ 0    ┆ 0    ┆ null  │\n",
       "│ zychto01  ┆ 2017   ┆ 1     ┆ SEA    ┆ … ┆ 0   ┆ 0    ┆ 0    ┆ null  │\n",
       "└───────────┴────────┴───────┴────────┴───┴─────┴──────┴──────┴───────┘"
      ]
     },
     "execution_count": 162,
     "metadata": {},
     "output_type": "execute_result"
    }
   ],
   "source": [
    "Batting = pl.read_csv(\"./lahman_1871-2023_csv/Batting.csv\")\n",
    "Batting"
   ]
  },
  {
   "cell_type": "code",
   "execution_count": 163,
   "id": "c63cea73-e104-4397-9fe8-04a13490e935",
   "metadata": {},
   "outputs": [
    {
     "data": {
      "text/html": [
       "<div><style>\n",
       ".dataframe > thead > tr,\n",
       ".dataframe > tbody > tr {\n",
       "  text-align: right;\n",
       "  white-space: pre-wrap;\n",
       "}\n",
       "</style>\n",
       "<small>shape: (51_368, 30)</small><table border=\"1\" class=\"dataframe\"><thead><tr><th>playerID</th><th>yearID</th><th>stint</th><th>teamID</th><th>lgID</th><th>W</th><th>L</th><th>G</th><th>GS</th><th>CG</th><th>SHO</th><th>SV</th><th>IPouts</th><th>H</th><th>ER</th><th>HR</th><th>BB</th><th>SO</th><th>BAOpp</th><th>ERA</th><th>IBB</th><th>WP</th><th>HBP</th><th>BK</th><th>BFP</th><th>GF</th><th>R</th><th>SH</th><th>SF</th><th>GIDP</th></tr><tr><td>str</td><td>i64</td><td>i64</td><td>str</td><td>str</td><td>i64</td><td>i64</td><td>i64</td><td>i64</td><td>i64</td><td>i64</td><td>i64</td><td>i64</td><td>i64</td><td>i64</td><td>i64</td><td>i64</td><td>i64</td><td>f64</td><td>f64</td><td>i64</td><td>i64</td><td>i64</td><td>i64</td><td>i64</td><td>i64</td><td>i64</td><td>i64</td><td>i64</td><td>i64</td></tr></thead><tbody><tr><td>&quot;aardsda01&quot;</td><td>2004</td><td>1</td><td>&quot;SFN&quot;</td><td>&quot;NL&quot;</td><td>1</td><td>0</td><td>11</td><td>0</td><td>0</td><td>0</td><td>0</td><td>32</td><td>20</td><td>8</td><td>1</td><td>10</td><td>5</td><td>0.417</td><td>6.75</td><td>0</td><td>0</td><td>2</td><td>0</td><td>61</td><td>5</td><td>8</td><td>0</td><td>1</td><td>1</td></tr><tr><td>&quot;aardsda01&quot;</td><td>2006</td><td>1</td><td>&quot;CHN&quot;</td><td>&quot;NL&quot;</td><td>3</td><td>0</td><td>45</td><td>0</td><td>0</td><td>0</td><td>0</td><td>159</td><td>41</td><td>24</td><td>9</td><td>28</td><td>49</td><td>0.214</td><td>4.08</td><td>0</td><td>1</td><td>1</td><td>0</td><td>225</td><td>9</td><td>25</td><td>1</td><td>3</td><td>2</td></tr><tr><td>&quot;aardsda01&quot;</td><td>2007</td><td>1</td><td>&quot;CHA&quot;</td><td>&quot;AL&quot;</td><td>2</td><td>1</td><td>25</td><td>0</td><td>0</td><td>0</td><td>0</td><td>97</td><td>39</td><td>23</td><td>4</td><td>17</td><td>36</td><td>0.3</td><td>6.4</td><td>3</td><td>2</td><td>1</td><td>0</td><td>151</td><td>7</td><td>24</td><td>2</td><td>1</td><td>1</td></tr><tr><td>&quot;aardsda01&quot;</td><td>2008</td><td>1</td><td>&quot;BOS&quot;</td><td>&quot;AL&quot;</td><td>4</td><td>2</td><td>47</td><td>0</td><td>0</td><td>0</td><td>0</td><td>146</td><td>49</td><td>30</td><td>4</td><td>35</td><td>49</td><td>0.268</td><td>5.55</td><td>2</td><td>3</td><td>5</td><td>0</td><td>228</td><td>7</td><td>32</td><td>3</td><td>2</td><td>4</td></tr><tr><td>&quot;aardsda01&quot;</td><td>2009</td><td>1</td><td>&quot;SEA&quot;</td><td>&quot;AL&quot;</td><td>3</td><td>6</td><td>73</td><td>0</td><td>0</td><td>0</td><td>38</td><td>214</td><td>49</td><td>20</td><td>4</td><td>34</td><td>80</td><td>0.19</td><td>2.52</td><td>3</td><td>2</td><td>0</td><td>0</td><td>296</td><td>53</td><td>23</td><td>2</td><td>1</td><td>2</td></tr><tr><td>&hellip;</td><td>&hellip;</td><td>&hellip;</td><td>&hellip;</td><td>&hellip;</td><td>&hellip;</td><td>&hellip;</td><td>&hellip;</td><td>&hellip;</td><td>&hellip;</td><td>&hellip;</td><td>&hellip;</td><td>&hellip;</td><td>&hellip;</td><td>&hellip;</td><td>&hellip;</td><td>&hellip;</td><td>&hellip;</td><td>&hellip;</td><td>&hellip;</td><td>&hellip;</td><td>&hellip;</td><td>&hellip;</td><td>&hellip;</td><td>&hellip;</td><td>&hellip;</td><td>&hellip;</td><td>&hellip;</td><td>&hellip;</td><td>&hellip;</td></tr><tr><td>&quot;zuverge01&quot;</td><td>1958</td><td>1</td><td>&quot;BAL&quot;</td><td>&quot;AL&quot;</td><td>2</td><td>2</td><td>45</td><td>0</td><td>0</td><td>0</td><td>7</td><td>207</td><td>74</td><td>26</td><td>4</td><td>17</td><td>22</td><td>0.28</td><td>3.39</td><td>3</td><td>2</td><td>6</td><td>0</td><td>294</td><td>23</td><td>29</td><td>null</td><td>null</td><td>null</td></tr><tr><td>&quot;zuverge01&quot;</td><td>1959</td><td>1</td><td>&quot;BAL&quot;</td><td>&quot;AL&quot;</td><td>0</td><td>1</td><td>6</td><td>0</td><td>0</td><td>0</td><td>0</td><td>39</td><td>15</td><td>6</td><td>1</td><td>6</td><td>1</td><td>0.3</td><td>4.15</td><td>0</td><td>1</td><td>0</td><td>0</td><td>55</td><td>1</td><td>7</td><td>null</td><td>null</td><td>null</td></tr><tr><td>&quot;zychto01&quot;</td><td>2015</td><td>1</td><td>&quot;SEA&quot;</td><td>&quot;AL&quot;</td><td>0</td><td>0</td><td>13</td><td>1</td><td>0</td><td>0</td><td>0</td><td>55</td><td>17</td><td>5</td><td>1</td><td>3</td><td>24</td><td>0.239</td><td>2.45</td><td>0</td><td>1</td><td>2</td><td>0</td><td>76</td><td>4</td><td>6</td><td>0</td><td>0</td><td>0</td></tr><tr><td>&quot;zychto01&quot;</td><td>2016</td><td>1</td><td>&quot;SEA&quot;</td><td>&quot;AL&quot;</td><td>1</td><td>0</td><td>12</td><td>0</td><td>0</td><td>0</td><td>0</td><td>41</td><td>10</td><td>5</td><td>0</td><td>10</td><td>21</td><td>0.208</td><td>3.29</td><td>2</td><td>0</td><td>1</td><td>0</td><td>60</td><td>3</td><td>6</td><td>0</td><td>1</td><td>1</td></tr><tr><td>&quot;zychto01&quot;</td><td>2017</td><td>1</td><td>&quot;SEA&quot;</td><td>&quot;AL&quot;</td><td>6</td><td>3</td><td>45</td><td>0</td><td>0</td><td>0</td><td>1</td><td>122</td><td>30</td><td>12</td><td>2</td><td>21</td><td>35</td><td>0.208</td><td>2.66</td><td>3</td><td>1</td><td>5</td><td>1</td><td>173</td><td>7</td><td>12</td><td>1</td><td>2</td><td>5</td></tr></tbody></table></div>"
      ],
      "text/plain": [
       "shape: (51_368, 30)\n",
       "┌───────────┬────────┬───────┬────────┬───┬─────┬──────┬──────┬──────┐\n",
       "│ playerID  ┆ yearID ┆ stint ┆ teamID ┆ … ┆ R   ┆ SH   ┆ SF   ┆ GIDP │\n",
       "│ ---       ┆ ---    ┆ ---   ┆ ---    ┆   ┆ --- ┆ ---  ┆ ---  ┆ ---  │\n",
       "│ str       ┆ i64    ┆ i64   ┆ str    ┆   ┆ i64 ┆ i64  ┆ i64  ┆ i64  │\n",
       "╞═══════════╪════════╪═══════╪════════╪═══╪═════╪══════╪══════╪══════╡\n",
       "│ aardsda01 ┆ 2004   ┆ 1     ┆ SFN    ┆ … ┆ 8   ┆ 0    ┆ 1    ┆ 1    │\n",
       "│ aardsda01 ┆ 2006   ┆ 1     ┆ CHN    ┆ … ┆ 25  ┆ 1    ┆ 3    ┆ 2    │\n",
       "│ aardsda01 ┆ 2007   ┆ 1     ┆ CHA    ┆ … ┆ 24  ┆ 2    ┆ 1    ┆ 1    │\n",
       "│ aardsda01 ┆ 2008   ┆ 1     ┆ BOS    ┆ … ┆ 32  ┆ 3    ┆ 2    ┆ 4    │\n",
       "│ aardsda01 ┆ 2009   ┆ 1     ┆ SEA    ┆ … ┆ 23  ┆ 2    ┆ 1    ┆ 2    │\n",
       "│ …         ┆ …      ┆ …     ┆ …      ┆ … ┆ …   ┆ …    ┆ …    ┆ …    │\n",
       "│ zuverge01 ┆ 1958   ┆ 1     ┆ BAL    ┆ … ┆ 29  ┆ null ┆ null ┆ null │\n",
       "│ zuverge01 ┆ 1959   ┆ 1     ┆ BAL    ┆ … ┆ 7   ┆ null ┆ null ┆ null │\n",
       "│ zychto01  ┆ 2015   ┆ 1     ┆ SEA    ┆ … ┆ 6   ┆ 0    ┆ 0    ┆ 0    │\n",
       "│ zychto01  ┆ 2016   ┆ 1     ┆ SEA    ┆ … ┆ 6   ┆ 0    ┆ 1    ┆ 1    │\n",
       "│ zychto01  ┆ 2017   ┆ 1     ┆ SEA    ┆ … ┆ 12  ┆ 1    ┆ 2    ┆ 5    │\n",
       "└───────────┴────────┴───────┴────────┴───┴─────┴──────┴──────┴──────┘"
      ]
     },
     "execution_count": 163,
     "metadata": {},
     "output_type": "execute_result"
    }
   ],
   "source": [
    "Pitching = pl.read_csv(\"./lahman_1871-2023_csv/Pitching.csv\")\n",
    "Pitching"
   ]
  },
  {
   "cell_type": "code",
   "execution_count": 164,
   "id": "6e7a5371-4eec-4290-bc0a-a8ece058c336",
   "metadata": {},
   "outputs": [
    {
     "data": {
      "text/html": [
       "<div><style>\n",
       ".dataframe > thead > tr,\n",
       ".dataframe > tbody > tr {\n",
       "  text-align: right;\n",
       "  white-space: pre-wrap;\n",
       "}\n",
       "</style>\n",
       "<small>shape: (26_428, 5)</small><table border=\"1\" class=\"dataframe\"><thead><tr><th>yearID</th><th>teamID</th><th>lgID</th><th>playerID</th><th>salary</th></tr><tr><td>i64</td><td>str</td><td>str</td><td>str</td><td>i64</td></tr></thead><tbody><tr><td>1985</td><td>&quot;ATL&quot;</td><td>&quot;NL&quot;</td><td>&quot;barkele01&quot;</td><td>870000</td></tr><tr><td>1985</td><td>&quot;ATL&quot;</td><td>&quot;NL&quot;</td><td>&quot;bedrost01&quot;</td><td>550000</td></tr><tr><td>1985</td><td>&quot;ATL&quot;</td><td>&quot;NL&quot;</td><td>&quot;benedbr01&quot;</td><td>545000</td></tr><tr><td>1985</td><td>&quot;ATL&quot;</td><td>&quot;NL&quot;</td><td>&quot;campri01&quot;</td><td>633333</td></tr><tr><td>1985</td><td>&quot;ATL&quot;</td><td>&quot;NL&quot;</td><td>&quot;ceronri01&quot;</td><td>625000</td></tr><tr><td>&hellip;</td><td>&hellip;</td><td>&hellip;</td><td>&hellip;</td><td>&hellip;</td></tr><tr><td>2016</td><td>&quot;WAS&quot;</td><td>&quot;NL&quot;</td><td>&quot;strasst01&quot;</td><td>10400000</td></tr><tr><td>2016</td><td>&quot;WAS&quot;</td><td>&quot;NL&quot;</td><td>&quot;taylomi02&quot;</td><td>524000</td></tr><tr><td>2016</td><td>&quot;WAS&quot;</td><td>&quot;NL&quot;</td><td>&quot;treinbl01&quot;</td><td>524900</td></tr><tr><td>2016</td><td>&quot;WAS&quot;</td><td>&quot;NL&quot;</td><td>&quot;werthja01&quot;</td><td>21733615</td></tr><tr><td>2016</td><td>&quot;WAS&quot;</td><td>&quot;NL&quot;</td><td>&quot;zimmery01&quot;</td><td>14000000</td></tr></tbody></table></div>"
      ],
      "text/plain": [
       "shape: (26_428, 5)\n",
       "┌────────┬────────┬──────┬───────────┬──────────┐\n",
       "│ yearID ┆ teamID ┆ lgID ┆ playerID  ┆ salary   │\n",
       "│ ---    ┆ ---    ┆ ---  ┆ ---       ┆ ---      │\n",
       "│ i64    ┆ str    ┆ str  ┆ str       ┆ i64      │\n",
       "╞════════╪════════╪══════╪═══════════╪══════════╡\n",
       "│ 1985   ┆ ATL    ┆ NL   ┆ barkele01 ┆ 870000   │\n",
       "│ 1985   ┆ ATL    ┆ NL   ┆ bedrost01 ┆ 550000   │\n",
       "│ 1985   ┆ ATL    ┆ NL   ┆ benedbr01 ┆ 545000   │\n",
       "│ 1985   ┆ ATL    ┆ NL   ┆ campri01  ┆ 633333   │\n",
       "│ 1985   ┆ ATL    ┆ NL   ┆ ceronri01 ┆ 625000   │\n",
       "│ …      ┆ …      ┆ …    ┆ …         ┆ …        │\n",
       "│ 2016   ┆ WAS    ┆ NL   ┆ strasst01 ┆ 10400000 │\n",
       "│ 2016   ┆ WAS    ┆ NL   ┆ taylomi02 ┆ 524000   │\n",
       "│ 2016   ┆ WAS    ┆ NL   ┆ treinbl01 ┆ 524900   │\n",
       "│ 2016   ┆ WAS    ┆ NL   ┆ werthja01 ┆ 21733615 │\n",
       "│ 2016   ┆ WAS    ┆ NL   ┆ zimmery01 ┆ 14000000 │\n",
       "└────────┴────────┴──────┴───────────┴──────────┘"
      ]
     },
     "execution_count": 164,
     "metadata": {},
     "output_type": "execute_result"
    }
   ],
   "source": [
    "Salaries = pl.read_csv(\"./lahman_1871-2023_csv/Salaries.csv\")\n",
    "Salaries"
   ]
  },
  {
   "cell_type": "code",
   "execution_count": 179,
   "id": "8ce5a51e-4b02-4ba4-8d18-745e5e37be15",
   "metadata": {},
   "outputs": [
    {
     "data": {
      "text/html": [
       "<div><style>\n",
       ".dataframe > thead > tr,\n",
       ".dataframe > tbody > tr {\n",
       "  text-align: right;\n",
       "  white-space: pre-wrap;\n",
       "}\n",
       "</style>\n",
       "<small>shape: (9_131, 3)</small><table border=\"1\" class=\"dataframe\"><thead><tr><th>yearID</th><th>playerID</th><th>total_salary</th></tr><tr><td>i64</td><td>str</td><td>i64</td></tr></thead><tbody><tr><td>2012</td><td>&quot;roenijo01&quot;</td><td>481000</td></tr><tr><td>2010</td><td>&quot;tejadmi01&quot;</td><td>6000000</td></tr><tr><td>2016</td><td>&quot;lestejo01&quot;</td><td>25000000</td></tr><tr><td>2007</td><td>&quot;baldero01&quot;</td><td>750000</td></tr><tr><td>2008</td><td>&quot;owingmi01&quot;</td><td>402000</td></tr><tr><td>&hellip;</td><td>&hellip;</td><td>&hellip;</td></tr><tr><td>2013</td><td>&quot;hagadni01&quot;</td><td>492100</td></tr><tr><td>2016</td><td>&quot;sotoge01&quot;</td><td>2800000</td></tr><tr><td>2009</td><td>&quot;garkory01&quot;</td><td>446100</td></tr><tr><td>2007</td><td>&quot;westbja01&quot;</td><td>6100000</td></tr><tr><td>2009</td><td>&quot;ryanbr01&quot;</td><td>403000</td></tr></tbody></table></div>"
      ],
      "text/plain": [
       "shape: (9_131, 3)\n",
       "┌────────┬───────────┬──────────────┐\n",
       "│ yearID ┆ playerID  ┆ total_salary │\n",
       "│ ---    ┆ ---       ┆ ---          │\n",
       "│ i64    ┆ str       ┆ i64          │\n",
       "╞════════╪═══════════╪══════════════╡\n",
       "│ 2012   ┆ roenijo01 ┆ 481000       │\n",
       "│ 2010   ┆ tejadmi01 ┆ 6000000      │\n",
       "│ 2016   ┆ lestejo01 ┆ 25000000     │\n",
       "│ 2007   ┆ baldero01 ┆ 750000       │\n",
       "│ 2008   ┆ owingmi01 ┆ 402000       │\n",
       "│ …      ┆ …         ┆ …            │\n",
       "│ 2013   ┆ hagadni01 ┆ 492100       │\n",
       "│ 2016   ┆ sotoge01  ┆ 2800000      │\n",
       "│ 2009   ┆ garkory01 ┆ 446100       │\n",
       "│ 2007   ┆ westbja01 ┆ 6100000      │\n",
       "│ 2009   ┆ ryanbr01  ┆ 403000       │\n",
       "└────────┴───────────┴──────────────┘"
      ]
     },
     "execution_count": 179,
     "metadata": {},
     "output_type": "execute_result"
    }
   ],
   "source": [
    "SalaryNew = (Salaries\n",
    "               .select([pl.col('yearID'), pl.col('playerID'), pl.col('salary')])\n",
    "               .filter(pl.col('yearID') >= 2006)\n",
    "               .group_by(pl.col('yearID'), pl.col('playerID'))\n",
    "               .agg(pl.col('salary').sum().alias('total_salary'))\n",
    "               \n",
    "              )\n",
    "SalaryNew"
   ]
  },
  {
   "cell_type": "code",
   "execution_count": 207,
   "id": "96afddc4-7bdd-4494-b045-81f86337756d",
   "metadata": {},
   "outputs": [
    {
     "data": {
      "text/html": [
       "<div><style>\n",
       ".dataframe > thead > tr,\n",
       ".dataframe > tbody > tr {\n",
       "  text-align: right;\n",
       "  white-space: pre-wrap;\n",
       "}\n",
       "</style>\n",
       "<small>shape: (23_983, 14)</small><table border=\"1\" class=\"dataframe\"><thead><tr><th>playerID</th><th>yearID</th><th>total_G</th><th>total_GS</th><th>total_InnOuts</th><th>total_PO</th><th>total_A</th><th>total_E</th><th>total_DP</th><th>total_PB</th><th>total_WP</th><th>total_SB</th><th>total_CS</th><th>total_ZR</th></tr><tr><td>str</td><td>i64</td><td>i64</td><td>i64</td><td>i64</td><td>i64</td><td>i64</td><td>i64</td><td>i64</td><td>str</td><td>str</td><td>str</td><td>str</td><td>str</td></tr></thead><tbody><tr><td>&quot;murphda07&quot;</td><td>2006</td><td>16</td><td>6</td><td>196</td><td>12</td><td>0</td><td>0</td><td>0</td><td>null</td><td>null</td><td>null</td><td>null</td><td>null</td></tr><tr><td>&quot;penabr01&quot;</td><td>2012</td><td>55</td><td>46</td><td>1279</td><td>352</td><td>18</td><td>4</td><td>4</td><td>null</td><td>null</td><td>null</td><td>null</td><td>null</td></tr><tr><td>&quot;anderju01&quot;</td><td>2019</td><td>54</td><td>0</td><td>141</td><td>2</td><td>2</td><td>0</td><td>0</td><td>null</td><td>null</td><td>null</td><td>null</td><td>null</td></tr><tr><td>&quot;cabrege01&quot;</td><td>2023</td><td>61</td><td>0</td><td>167</td><td>5</td><td>3</td><td>0</td><td>1</td><td>null</td><td>null</td><td>null</td><td>null</td><td>null</td></tr><tr><td>&quot;kellydo01&quot;</td><td>2015</td><td>2</td><td>1</td><td>10</td><td>0</td><td>2</td><td>0</td><td>0</td><td>null</td><td>null</td><td>null</td><td>null</td><td>null</td></tr><tr><td>&hellip;</td><td>&hellip;</td><td>&hellip;</td><td>&hellip;</td><td>&hellip;</td><td>&hellip;</td><td>&hellip;</td><td>&hellip;</td><td>&hellip;</td><td>&hellip;</td><td>&hellip;</td><td>&hellip;</td><td>&hellip;</td><td>&hellip;</td></tr><tr><td>&quot;osunajo01&quot;</td><td>2018</td><td>26</td><td>22</td><td>580</td><td>94</td><td>15</td><td>1</td><td>10</td><td>null</td><td>null</td><td>null</td><td>null</td><td>null</td></tr><tr><td>&quot;webbty01&quot;</td><td>2018</td><td>22</td><td>0</td><td>61</td><td>5</td><td>2</td><td>0</td><td>1</td><td>null</td><td>null</td><td>null</td><td>null</td><td>null</td></tr><tr><td>&quot;willira01&quot;</td><td>2009</td><td>25</td><td>0</td><td>53</td><td>4</td><td>5</td><td>0</td><td>0</td><td>null</td><td>null</td><td>null</td><td>null</td><td>null</td></tr><tr><td>&quot;goldspa01&quot;</td><td>2018</td><td>155</td><td>154</td><td>4097</td><td>1323</td><td>110</td><td>6</td><td>131</td><td>null</td><td>null</td><td>null</td><td>null</td><td>null</td></tr><tr><td>&quot;costech01&quot;</td><td>2009</td><td>71</td><td>50</td><td>1430</td><td>407</td><td>18</td><td>1</td><td>18</td><td>null</td><td>null</td><td>null</td><td>null</td><td>null</td></tr></tbody></table></div>"
      ],
      "text/plain": [
       "shape: (23_983, 14)\n",
       "┌───────────┬────────┬─────────┬──────────┬───┬──────────┬──────────┬──────────┬──────────┐\n",
       "│ playerID  ┆ yearID ┆ total_G ┆ total_GS ┆ … ┆ total_WP ┆ total_SB ┆ total_CS ┆ total_ZR │\n",
       "│ ---       ┆ ---    ┆ ---     ┆ ---      ┆   ┆ ---      ┆ ---      ┆ ---      ┆ ---      │\n",
       "│ str       ┆ i64    ┆ i64     ┆ i64      ┆   ┆ str      ┆ str      ┆ str      ┆ str      │\n",
       "╞═══════════╪════════╪═════════╪══════════╪═══╪══════════╪══════════╪══════════╪══════════╡\n",
       "│ murphda07 ┆ 2006   ┆ 16      ┆ 6        ┆ … ┆ null     ┆ null     ┆ null     ┆ null     │\n",
       "│ penabr01  ┆ 2012   ┆ 55      ┆ 46       ┆ … ┆ null     ┆ null     ┆ null     ┆ null     │\n",
       "│ anderju01 ┆ 2019   ┆ 54      ┆ 0        ┆ … ┆ null     ┆ null     ┆ null     ┆ null     │\n",
       "│ cabrege01 ┆ 2023   ┆ 61      ┆ 0        ┆ … ┆ null     ┆ null     ┆ null     ┆ null     │\n",
       "│ kellydo01 ┆ 2015   ┆ 2       ┆ 1        ┆ … ┆ null     ┆ null     ┆ null     ┆ null     │\n",
       "│ …         ┆ …      ┆ …       ┆ …        ┆ … ┆ …        ┆ …        ┆ …        ┆ …        │\n",
       "│ osunajo01 ┆ 2018   ┆ 26      ┆ 22       ┆ … ┆ null     ┆ null     ┆ null     ┆ null     │\n",
       "│ webbty01  ┆ 2018   ┆ 22      ┆ 0        ┆ … ┆ null     ┆ null     ┆ null     ┆ null     │\n",
       "│ willira01 ┆ 2009   ┆ 25      ┆ 0        ┆ … ┆ null     ┆ null     ┆ null     ┆ null     │\n",
       "│ goldspa01 ┆ 2018   ┆ 155     ┆ 154      ┆ … ┆ null     ┆ null     ┆ null     ┆ null     │\n",
       "│ costech01 ┆ 2009   ┆ 71      ┆ 50       ┆ … ┆ null     ┆ null     ┆ null     ┆ null     │\n",
       "└───────────┴────────┴─────────┴──────────┴───┴──────────┴──────────┴──────────┴──────────┘"
      ]
     },
     "execution_count": 207,
     "metadata": {},
     "output_type": "execute_result"
    }
   ],
   "source": [
    "FieldingNew = (Fielding\n",
    "          .select([pl.col('playerID'), pl.col('yearID'), pl.col('G'), pl.col('GS'), pl.col('InnOuts'), pl.col('PO'), pl.col('A'), pl.col('E'),\n",
    "                pl.col('DP'), pl.col('PB'), pl.col('WP'), pl.col('SB'), pl.col('CS'), pl.col('ZR')])\n",
    "            .filter((pl.col('yearID') >= 2006))\n",
    "            .group_by(pl.col('playerID'), pl.col('yearID'))  \n",
    "            .agg([pl.col('G').sum().alias('total_G'),\n",
    "            pl.col('GS').sum().alias('total_GS'),\n",
    "            pl.col('InnOuts').sum().alias('total_InnOuts'),\n",
    "            pl.col('PO').sum().alias('total_PO'),\n",
    "            pl.col('A').sum().alias('total_A'),\n",
    "            pl.col('E').sum().alias('total_E'),\n",
    "            pl.col('DP').sum().alias('total_DP'),\n",
    "            pl.col('PB').sum().alias('total_PB'),\n",
    "            pl.col('WP').sum().alias('total_WP'),\n",
    "            pl.col('SB').sum().alias('total_SB'),\n",
    "            pl.col('CS').sum().alias('total_CS'),\n",
    "            pl.col('ZR').sum().alias('total_ZR')])\n",
    "         )\n",
    "FieldingNew"
   ]
  },
  {
   "cell_type": "code",
   "execution_count": 208,
   "id": "e0cd35f1-cfd8-4816-8e66-8a381178f154",
   "metadata": {},
   "outputs": [
    {
     "data": {
      "text/html": [
       "<div><style>\n",
       ".dataframe > thead > tr,\n",
       ".dataframe > tbody > tr {\n",
       "  text-align: right;\n",
       "  white-space: pre-wrap;\n",
       "}\n",
       "</style>\n",
       "<small>shape: (5, 30)</small><table border=\"1\" class=\"dataframe\"><thead><tr><th>playerID</th><th>yearID</th><th>stint</th><th>teamID</th><th>lgID</th><th>W</th><th>L</th><th>G</th><th>GS</th><th>CG</th><th>SHO</th><th>SV</th><th>IPouts</th><th>H</th><th>ER</th><th>HR</th><th>BB</th><th>SO</th><th>BAOpp</th><th>ERA</th><th>IBB</th><th>WP</th><th>HBP</th><th>BK</th><th>BFP</th><th>GF</th><th>R</th><th>SH</th><th>SF</th><th>GIDP</th></tr><tr><td>str</td><td>i64</td><td>i64</td><td>str</td><td>str</td><td>i64</td><td>i64</td><td>i64</td><td>i64</td><td>i64</td><td>i64</td><td>i64</td><td>i64</td><td>i64</td><td>i64</td><td>i64</td><td>i64</td><td>i64</td><td>f64</td><td>f64</td><td>i64</td><td>i64</td><td>i64</td><td>i64</td><td>i64</td><td>i64</td><td>i64</td><td>i64</td><td>i64</td><td>i64</td></tr></thead><tbody><tr><td>&quot;aardsda01&quot;</td><td>2004</td><td>1</td><td>&quot;SFN&quot;</td><td>&quot;NL&quot;</td><td>1</td><td>0</td><td>11</td><td>0</td><td>0</td><td>0</td><td>0</td><td>32</td><td>20</td><td>8</td><td>1</td><td>10</td><td>5</td><td>0.417</td><td>6.75</td><td>0</td><td>0</td><td>2</td><td>0</td><td>61</td><td>5</td><td>8</td><td>0</td><td>1</td><td>1</td></tr><tr><td>&quot;aardsda01&quot;</td><td>2006</td><td>1</td><td>&quot;CHN&quot;</td><td>&quot;NL&quot;</td><td>3</td><td>0</td><td>45</td><td>0</td><td>0</td><td>0</td><td>0</td><td>159</td><td>41</td><td>24</td><td>9</td><td>28</td><td>49</td><td>0.214</td><td>4.08</td><td>0</td><td>1</td><td>1</td><td>0</td><td>225</td><td>9</td><td>25</td><td>1</td><td>3</td><td>2</td></tr><tr><td>&quot;aardsda01&quot;</td><td>2007</td><td>1</td><td>&quot;CHA&quot;</td><td>&quot;AL&quot;</td><td>2</td><td>1</td><td>25</td><td>0</td><td>0</td><td>0</td><td>0</td><td>97</td><td>39</td><td>23</td><td>4</td><td>17</td><td>36</td><td>0.3</td><td>6.4</td><td>3</td><td>2</td><td>1</td><td>0</td><td>151</td><td>7</td><td>24</td><td>2</td><td>1</td><td>1</td></tr><tr><td>&quot;aardsda01&quot;</td><td>2008</td><td>1</td><td>&quot;BOS&quot;</td><td>&quot;AL&quot;</td><td>4</td><td>2</td><td>47</td><td>0</td><td>0</td><td>0</td><td>0</td><td>146</td><td>49</td><td>30</td><td>4</td><td>35</td><td>49</td><td>0.268</td><td>5.55</td><td>2</td><td>3</td><td>5</td><td>0</td><td>228</td><td>7</td><td>32</td><td>3</td><td>2</td><td>4</td></tr><tr><td>&quot;aardsda01&quot;</td><td>2009</td><td>1</td><td>&quot;SEA&quot;</td><td>&quot;AL&quot;</td><td>3</td><td>6</td><td>73</td><td>0</td><td>0</td><td>0</td><td>38</td><td>214</td><td>49</td><td>20</td><td>4</td><td>34</td><td>80</td><td>0.19</td><td>2.52</td><td>3</td><td>2</td><td>0</td><td>0</td><td>296</td><td>53</td><td>23</td><td>2</td><td>1</td><td>2</td></tr></tbody></table></div>"
      ],
      "text/plain": [
       "shape: (5, 30)\n",
       "┌───────────┬────────┬───────┬────────┬───┬─────┬─────┬─────┬──────┐\n",
       "│ playerID  ┆ yearID ┆ stint ┆ teamID ┆ … ┆ R   ┆ SH  ┆ SF  ┆ GIDP │\n",
       "│ ---       ┆ ---    ┆ ---   ┆ ---    ┆   ┆ --- ┆ --- ┆ --- ┆ ---  │\n",
       "│ str       ┆ i64    ┆ i64   ┆ str    ┆   ┆ i64 ┆ i64 ┆ i64 ┆ i64  │\n",
       "╞═══════════╪════════╪═══════╪════════╪═══╪═════╪═════╪═════╪══════╡\n",
       "│ aardsda01 ┆ 2004   ┆ 1     ┆ SFN    ┆ … ┆ 8   ┆ 0   ┆ 1   ┆ 1    │\n",
       "│ aardsda01 ┆ 2006   ┆ 1     ┆ CHN    ┆ … ┆ 25  ┆ 1   ┆ 3   ┆ 2    │\n",
       "│ aardsda01 ┆ 2007   ┆ 1     ┆ CHA    ┆ … ┆ 24  ┆ 2   ┆ 1   ┆ 1    │\n",
       "│ aardsda01 ┆ 2008   ┆ 1     ┆ BOS    ┆ … ┆ 32  ┆ 3   ┆ 2   ┆ 4    │\n",
       "│ aardsda01 ┆ 2009   ┆ 1     ┆ SEA    ┆ … ┆ 23  ┆ 2   ┆ 1   ┆ 2    │\n",
       "└───────────┴────────┴───────┴────────┴───┴─────┴─────┴─────┴──────┘"
      ]
     },
     "execution_count": 208,
     "metadata": {},
     "output_type": "execute_result"
    }
   ],
   "source": [
    "Pitching.head()"
   ]
  },
  {
   "cell_type": "code",
   "execution_count": 209,
   "id": "40548bcd-3c7d-4379-a7cd-6baa090dec47",
   "metadata": {},
   "outputs": [
    {
     "data": {
      "text/html": [
       "<div><style>\n",
       ".dataframe > thead > tr,\n",
       ".dataframe > tbody > tr {\n",
       "  text-align: right;\n",
       "  white-space: pre-wrap;\n",
       "}\n",
       "</style>\n",
       "<small>shape: (13_186, 27)</small><table border=\"1\" class=\"dataframe\"><thead><tr><th>playerID</th><th>yearID</th><th>total_W</th><th>total_L</th><th>total_G</th><th>total_GS</th><th>total_CG</th><th>total_SHO</th><th>total_SV</th><th>total_IPouts</th><th>total_H</th><th>total_ER</th><th>total_HR</th><th>total_BB_allowed</th><th>total_SO_onbatters</th><th>mean_BAOpp</th><th>mean_ERA</th><th>total_IBB</th><th>total_WP</th><th>total_HBP</th><th>total_BK</th><th>total_BFP</th><th>total_GF</th><th>total_R</th><th>total_SH</th><th>total_SF</th><th>total_GIDP</th></tr><tr><td>str</td><td>i64</td><td>i64</td><td>i64</td><td>i64</td><td>i64</td><td>i64</td><td>i64</td><td>i64</td><td>i64</td><td>i64</td><td>i64</td><td>i64</td><td>i64</td><td>i64</td><td>f64</td><td>f64</td><td>i64</td><td>i64</td><td>i64</td><td>i64</td><td>i64</td><td>i64</td><td>i64</td><td>i64</td><td>i64</td><td>i64</td></tr></thead><tbody><tr><td>&quot;heilmaa01&quot;</td><td>2008</td><td>3</td><td>8</td><td>78</td><td>0</td><td>0</td><td>0</td><td>3</td><td>228</td><td>75</td><td>44</td><td>10</td><td>46</td><td>80</td><td>0.258</td><td>5.21</td><td>8</td><td>2</td><td>9</td><td>0</td><td>356</td><td>23</td><td>48</td><td>8</td><td>2</td><td>1</td></tr><tr><td>&quot;hutchdr01&quot;</td><td>2018</td><td>2</td><td>2</td><td>16</td><td>5</td><td>0</td><td>0</td><td>0</td><td>128</td><td>50</td><td>32</td><td>9</td><td>26</td><td>31</td><td>0.303</td><td>6.75</td><td>0</td><td>5</td><td>2</td><td>0</td><td>199</td><td>6</td><td>32</td><td>3</td><td>4</td><td>5</td></tr><tr><td>&quot;gsellro01&quot;</td><td>2022</td><td>0</td><td>2</td><td>8</td><td>0</td><td>0</td><td>0</td><td>1</td><td>46</td><td>17</td><td>8</td><td>2</td><td>3</td><td>9</td><td>0.279</td><td>4.7</td><td>0</td><td>0</td><td>0</td><td>0</td><td>64</td><td>5</td><td>10</td><td>0</td><td>0</td><td>1</td></tr><tr><td>&quot;myersbr01&quot;</td><td>2006</td><td>12</td><td>7</td><td>31</td><td>31</td><td>1</td><td>0</td><td>0</td><td>594</td><td>194</td><td>86</td><td>29</td><td>63</td><td>189</td><td>0.257</td><td>3.91</td><td>3</td><td>3</td><td>3</td><td>0</td><td>833</td><td>0</td><td>93</td><td>7</td><td>4</td><td>20</td></tr><tr><td>&quot;castilu02&quot;</td><td>2019</td><td>15</td><td>8</td><td>32</td><td>32</td><td>0</td><td>0</td><td>0</td><td>572</td><td>139</td><td>72</td><td>22</td><td>79</td><td>226</td><td>0.202</td><td>3.4</td><td>0</td><td>5</td><td>7</td><td>3</td><td>781</td><td>0</td><td>76</td><td>6</td><td>1</td><td>17</td></tr><tr><td>&hellip;</td><td>&hellip;</td><td>&hellip;</td><td>&hellip;</td><td>&hellip;</td><td>&hellip;</td><td>&hellip;</td><td>&hellip;</td><td>&hellip;</td><td>&hellip;</td><td>&hellip;</td><td>&hellip;</td><td>&hellip;</td><td>&hellip;</td><td>&hellip;</td><td>&hellip;</td><td>&hellip;</td><td>&hellip;</td><td>&hellip;</td><td>&hellip;</td><td>&hellip;</td><td>&hellip;</td><td>&hellip;</td><td>&hellip;</td><td>&hellip;</td><td>&hellip;</td><td>&hellip;</td></tr><tr><td>&quot;bushda01&quot;</td><td>2011</td><td>0</td><td>1</td><td>17</td><td>3</td><td>0</td><td>0</td><td>0</td><td>112</td><td>47</td><td>24</td><td>6</td><td>9</td><td>23</td><td>0.309</td><td>5.79</td><td>2</td><td>2</td><td>3</td><td>0</td><td>166</td><td>7</td><td>27</td><td>2</td><td>0</td><td>7</td></tr><tr><td>&quot;floydga01&quot;</td><td>2011</td><td>12</td><td>13</td><td>31</td><td>30</td><td>1</td><td>0</td><td>0</td><td>581</td><td>180</td><td>94</td><td>22</td><td>45</td><td>151</td><td>0.247</td><td>4.37</td><td>2</td><td>12</td><td>11</td><td>1</td><td>798</td><td>1</td><td>97</td><td>4</td><td>8</td><td>17</td></tr><tr><td>&quot;kellebr01&quot;</td><td>2020</td><td>5</td><td>3</td><td>9</td><td>9</td><td>1</td><td>1</td><td>0</td><td>164</td><td>39</td><td>15</td><td>2</td><td>17</td><td>35</td><td>0.202</td><td>2.47</td><td>0</td><td>1</td><td>2</td><td>0</td><td>215</td><td>0</td><td>16</td><td>0</td><td>3</td><td>9</td></tr><tr><td>&quot;eflinza01&quot;</td><td>2020</td><td>4</td><td>2</td><td>11</td><td>10</td><td>1</td><td>1</td><td>0</td><td>177</td><td>60</td><td>26</td><td>8</td><td>15</td><td>70</td><td>0.263</td><td>3.97</td><td>0</td><td>1</td><td>1</td><td>0</td><td>245</td><td>0</td><td>28</td><td>1</td><td>0</td><td>6</td></tr><tr><td>&quot;karstje01&quot;</td><td>2007</td><td>1</td><td>4</td><td>7</td><td>3</td><td>0</td><td>0</td><td>0</td><td>44</td><td>27</td><td>18</td><td>4</td><td>9</td><td>5</td><td>0.397</td><td>11.05</td><td>0</td><td>2</td><td>0</td><td>0</td><td>80</td><td>2</td><td>21</td><td>2</td><td>1</td><td>0</td></tr></tbody></table></div>"
      ],
      "text/plain": [
       "shape: (13_186, 27)\n",
       "┌───────────┬────────┬─────────┬─────────┬───┬─────────┬──────────┬──────────┬────────────┐\n",
       "│ playerID  ┆ yearID ┆ total_W ┆ total_L ┆ … ┆ total_R ┆ total_SH ┆ total_SF ┆ total_GIDP │\n",
       "│ ---       ┆ ---    ┆ ---     ┆ ---     ┆   ┆ ---     ┆ ---      ┆ ---      ┆ ---        │\n",
       "│ str       ┆ i64    ┆ i64     ┆ i64     ┆   ┆ i64     ┆ i64      ┆ i64      ┆ i64        │\n",
       "╞═══════════╪════════╪═════════╪═════════╪═══╪═════════╪══════════╪══════════╪════════════╡\n",
       "│ heilmaa01 ┆ 2008   ┆ 3       ┆ 8       ┆ … ┆ 48      ┆ 8        ┆ 2        ┆ 1          │\n",
       "│ hutchdr01 ┆ 2018   ┆ 2       ┆ 2       ┆ … ┆ 32      ┆ 3        ┆ 4        ┆ 5          │\n",
       "│ gsellro01 ┆ 2022   ┆ 0       ┆ 2       ┆ … ┆ 10      ┆ 0        ┆ 0        ┆ 1          │\n",
       "│ myersbr01 ┆ 2006   ┆ 12      ┆ 7       ┆ … ┆ 93      ┆ 7        ┆ 4        ┆ 20         │\n",
       "│ castilu02 ┆ 2019   ┆ 15      ┆ 8       ┆ … ┆ 76      ┆ 6        ┆ 1        ┆ 17         │\n",
       "│ …         ┆ …      ┆ …       ┆ …       ┆ … ┆ …       ┆ …        ┆ …        ┆ …          │\n",
       "│ bushda01  ┆ 2011   ┆ 0       ┆ 1       ┆ … ┆ 27      ┆ 2        ┆ 0        ┆ 7          │\n",
       "│ floydga01 ┆ 2011   ┆ 12      ┆ 13      ┆ … ┆ 97      ┆ 4        ┆ 8        ┆ 17         │\n",
       "│ kellebr01 ┆ 2020   ┆ 5       ┆ 3       ┆ … ┆ 16      ┆ 0        ┆ 3        ┆ 9          │\n",
       "│ eflinza01 ┆ 2020   ┆ 4       ┆ 2       ┆ … ┆ 28      ┆ 1        ┆ 0        ┆ 6          │\n",
       "│ karstje01 ┆ 2007   ┆ 1       ┆ 4       ┆ … ┆ 21      ┆ 2        ┆ 1        ┆ 0          │\n",
       "└───────────┴────────┴─────────┴─────────┴───┴─────────┴──────────┴──────────┴────────────┘"
      ]
     },
     "execution_count": 209,
     "metadata": {},
     "output_type": "execute_result"
    }
   ],
   "source": [
    "PitchingNew = (Pitching\n",
    "          .select([pl.col('playerID'), pl.col('yearID'), pl.col('W'), pl.col('L'), pl.col('G'), pl.col('GS'), pl.col('CG'), pl.col('SHO'), pl.col('SV'),\n",
    "                pl.col('IPouts'), pl.col('H'), pl.col('ER'), pl.col('HR'), pl.col('BB'), pl.col('SO'), pl.col('BAOpp'), pl.col('ERA'), pl.col('IBB')\n",
    "                  , pl.col('WP'), pl.col('HBP'), pl.col('BK'), pl.col('BFP'), pl.col('GF'), pl.col('R'), pl.col('SH'), pl.col('SF'), pl.col('GIDP')])\n",
    "            .filter((pl.col('yearID') >= 2006))\n",
    "            .group_by(pl.col('playerID'), pl.col('yearID'))  \n",
    "            .agg([pl.col('W').sum().alias('total_W'),\n",
    "            pl.col('L').sum().alias('total_L'),\n",
    "            pl.col('G').sum().alias('total_G'),\n",
    "            pl.col('GS').sum().alias('total_GS'),\n",
    "            pl.col('CG').sum().alias('total_CG'),\n",
    "            pl.col('SHO').sum().alias('total_SHO'),\n",
    "            pl.col('SV').sum().alias('total_SV'),\n",
    "            pl.col('IPouts').sum().alias('total_IPouts'),\n",
    "            pl.col('H').sum().alias('total_H'),\n",
    "            pl.col('ER').sum().alias('total_ER'),\n",
    "            pl.col('HR').sum().alias('total_HR'),\n",
    "            pl.col('BB').sum().alias('total_BB_allowed'),\n",
    "            pl.col('SO').sum().alias('total_SO_onbatters'),\n",
    "            pl.col('BAOpp').mean().alias('mean_BAOpp'),\n",
    "            pl.col('ERA').mean().alias('mean_ERA'),\n",
    "            pl.col('IBB').sum().alias('total_IBB'),\n",
    "            pl.col('WP').sum().alias('total_WP'),\n",
    "            pl.col('HBP').sum().alias('total_HBP'),\n",
    "            pl.col('BK').sum().alias('total_BK'),\n",
    "            pl.col('BFP').sum().alias('total_BFP'),\n",
    "            pl.col('GF').sum().alias('total_GF'),\n",
    "            pl.col('R').sum().alias('total_R'),\n",
    "            pl.col('SH').sum().alias('total_SH'),\n",
    "            pl.col('SF').sum().alias('total_SF'),\n",
    "            pl.col('GIDP').sum().alias('total_GIDP'),\n",
    "                 ])\n",
    "         )\n",
    "PitchingNew"
   ]
  },
  {
   "cell_type": "code",
   "execution_count": 210,
   "id": "f4181fbb-79c7-4fab-9a70-d56080ebab25",
   "metadata": {},
   "outputs": [
    {
     "data": {
      "text/html": [
       "<div><style>\n",
       ".dataframe > thead > tr,\n",
       ".dataframe > tbody > tr {\n",
       "  text-align: right;\n",
       "  white-space: pre-wrap;\n",
       "}\n",
       "</style>\n",
       "<small>shape: (5, 24)</small><table border=\"1\" class=\"dataframe\"><thead><tr><th>playerID</th><th>yearID</th><th>stint</th><th>teamID</th><th>lgID</th><th>G</th><th>G_batting</th><th>AB</th><th>R</th><th>H</th><th>2B</th><th>3B</th><th>HR</th><th>RBI</th><th>SB</th><th>CS</th><th>BB</th><th>SO</th><th>IBB</th><th>HBP</th><th>SH</th><th>SF</th><th>GIDP</th><th>G_old</th></tr><tr><td>str</td><td>i64</td><td>i64</td><td>str</td><td>str</td><td>i64</td><td>i64</td><td>i64</td><td>i64</td><td>i64</td><td>i64</td><td>i64</td><td>i64</td><td>i64</td><td>i64</td><td>i64</td><td>i64</td><td>i64</td><td>i64</td><td>i64</td><td>i64</td><td>i64</td><td>i64</td><td>str</td></tr></thead><tbody><tr><td>&quot;aardsda01&quot;</td><td>2004</td><td>1</td><td>&quot;SFN&quot;</td><td>&quot;NL&quot;</td><td>11</td><td>null</td><td>0</td><td>0</td><td>0</td><td>0</td><td>0</td><td>0</td><td>0</td><td>0</td><td>0</td><td>0</td><td>0</td><td>0</td><td>0</td><td>0</td><td>0</td><td>0</td><td>null</td></tr><tr><td>&quot;aardsda01&quot;</td><td>2006</td><td>1</td><td>&quot;CHN&quot;</td><td>&quot;NL&quot;</td><td>45</td><td>null</td><td>2</td><td>0</td><td>0</td><td>0</td><td>0</td><td>0</td><td>0</td><td>0</td><td>0</td><td>0</td><td>0</td><td>0</td><td>0</td><td>1</td><td>0</td><td>0</td><td>null</td></tr><tr><td>&quot;aardsda01&quot;</td><td>2007</td><td>1</td><td>&quot;CHA&quot;</td><td>&quot;AL&quot;</td><td>25</td><td>null</td><td>0</td><td>0</td><td>0</td><td>0</td><td>0</td><td>0</td><td>0</td><td>0</td><td>0</td><td>0</td><td>0</td><td>0</td><td>0</td><td>0</td><td>0</td><td>0</td><td>null</td></tr><tr><td>&quot;aardsda01&quot;</td><td>2008</td><td>1</td><td>&quot;BOS&quot;</td><td>&quot;AL&quot;</td><td>47</td><td>null</td><td>1</td><td>0</td><td>0</td><td>0</td><td>0</td><td>0</td><td>0</td><td>0</td><td>0</td><td>0</td><td>1</td><td>0</td><td>0</td><td>0</td><td>0</td><td>0</td><td>null</td></tr><tr><td>&quot;aardsda01&quot;</td><td>2009</td><td>1</td><td>&quot;SEA&quot;</td><td>&quot;AL&quot;</td><td>73</td><td>null</td><td>0</td><td>0</td><td>0</td><td>0</td><td>0</td><td>0</td><td>0</td><td>0</td><td>0</td><td>0</td><td>0</td><td>0</td><td>0</td><td>0</td><td>0</td><td>0</td><td>null</td></tr></tbody></table></div>"
      ],
      "text/plain": [
       "shape: (5, 24)\n",
       "┌───────────┬────────┬───────┬────────┬───┬─────┬─────┬──────┬───────┐\n",
       "│ playerID  ┆ yearID ┆ stint ┆ teamID ┆ … ┆ SH  ┆ SF  ┆ GIDP ┆ G_old │\n",
       "│ ---       ┆ ---    ┆ ---   ┆ ---    ┆   ┆ --- ┆ --- ┆ ---  ┆ ---   │\n",
       "│ str       ┆ i64    ┆ i64   ┆ str    ┆   ┆ i64 ┆ i64 ┆ i64  ┆ str   │\n",
       "╞═══════════╪════════╪═══════╪════════╪═══╪═════╪═════╪══════╪═══════╡\n",
       "│ aardsda01 ┆ 2004   ┆ 1     ┆ SFN    ┆ … ┆ 0   ┆ 0   ┆ 0    ┆ null  │\n",
       "│ aardsda01 ┆ 2006   ┆ 1     ┆ CHN    ┆ … ┆ 1   ┆ 0   ┆ 0    ┆ null  │\n",
       "│ aardsda01 ┆ 2007   ┆ 1     ┆ CHA    ┆ … ┆ 0   ┆ 0   ┆ 0    ┆ null  │\n",
       "│ aardsda01 ┆ 2008   ┆ 1     ┆ BOS    ┆ … ┆ 0   ┆ 0   ┆ 0    ┆ null  │\n",
       "│ aardsda01 ┆ 2009   ┆ 1     ┆ SEA    ┆ … ┆ 0   ┆ 0   ┆ 0    ┆ null  │\n",
       "└───────────┴────────┴───────┴────────┴───┴─────┴─────┴──────┴───────┘"
      ]
     },
     "execution_count": 210,
     "metadata": {},
     "output_type": "execute_result"
    }
   ],
   "source": [
    "Batting.head()"
   ]
  },
  {
   "cell_type": "code",
   "execution_count": 211,
   "id": "624434f1-0c90-4293-9cad-6f0b975292fc",
   "metadata": {},
   "outputs": [
    {
     "data": {
      "text/html": [
       "<div><style>\n",
       ".dataframe > thead > tr,\n",
       ".dataframe > tbody > tr {\n",
       "  text-align: right;\n",
       "  white-space: pre-wrap;\n",
       "}\n",
       "</style>\n",
       "<small>shape: (24_126, 19)</small><table border=\"1\" class=\"dataframe\"><thead><tr><th>playerID</th><th>yearID</th><th>total_G</th><th>total_AB</th><th>total_R</th><th>total_H</th><th>total_2B</th><th>total_3B</th><th>total_HR</th><th>total_RBI</th><th>total_SB</th><th>total_CS</th><th>total_BB</th><th>total_SO</th><th>total_IBB</th><th>total_HBP</th><th>total_SH</th><th>total_SF</th><th>total_GIDP</th></tr><tr><td>str</td><td>i64</td><td>i64</td><td>i64</td><td>i64</td><td>i64</td><td>i64</td><td>i64</td><td>i64</td><td>i64</td><td>i64</td><td>i64</td><td>i64</td><td>i64</td><td>i64</td><td>i64</td><td>i64</td><td>i64</td><td>i64</td></tr></thead><tbody><tr><td>&quot;gillu01&quot;</td><td>2022</td><td>1</td><td>0</td><td>0</td><td>0</td><td>0</td><td>0</td><td>0</td><td>0</td><td>0</td><td>0</td><td>0</td><td>0</td><td>0</td><td>0</td><td>0</td><td>0</td><td>0</td></tr><tr><td>&quot;velasvi01&quot;</td><td>2023</td><td>8</td><td>0</td><td>0</td><td>0</td><td>0</td><td>0</td><td>0</td><td>0</td><td>0</td><td>0</td><td>0</td><td>0</td><td>0</td><td>0</td><td>0</td><td>0</td><td>0</td></tr><tr><td>&quot;janseke01&quot;</td><td>2010</td><td>26</td><td>1</td><td>1</td><td>1</td><td>0</td><td>0</td><td>0</td><td>0</td><td>0</td><td>0</td><td>1</td><td>0</td><td>0</td><td>0</td><td>0</td><td>0</td><td>0</td></tr><tr><td>&quot;hamelco01&quot;</td><td>2012</td><td>31</td><td>69</td><td>5</td><td>15</td><td>2</td><td>0</td><td>1</td><td>5</td><td>0</td><td>1</td><td>4</td><td>27</td><td>0</td><td>1</td><td>8</td><td>0</td><td>1</td></tr><tr><td>&quot;claysa01&quot;</td><td>2021</td><td>58</td><td>2</td><td>0</td><td>0</td><td>0</td><td>0</td><td>0</td><td>0</td><td>0</td><td>0</td><td>0</td><td>1</td><td>0</td><td>0</td><td>0</td><td>0</td><td>0</td></tr><tr><td>&hellip;</td><td>&hellip;</td><td>&hellip;</td><td>&hellip;</td><td>&hellip;</td><td>&hellip;</td><td>&hellip;</td><td>&hellip;</td><td>&hellip;</td><td>&hellip;</td><td>&hellip;</td><td>&hellip;</td><td>&hellip;</td><td>&hellip;</td><td>&hellip;</td><td>&hellip;</td><td>&hellip;</td><td>&hellip;</td><td>&hellip;</td></tr><tr><td>&quot;harderi01&quot;</td><td>2011</td><td>15</td><td>0</td><td>0</td><td>0</td><td>0</td><td>0</td><td>0</td><td>0</td><td>0</td><td>0</td><td>0</td><td>0</td><td>0</td><td>0</td><td>0</td><td>0</td><td>0</td></tr><tr><td>&quot;stripro01&quot;</td><td>2021</td><td>24</td><td>5</td><td>0</td><td>0</td><td>0</td><td>0</td><td>0</td><td>0</td><td>0</td><td>0</td><td>0</td><td>2</td><td>0</td><td>0</td><td>1</td><td>0</td><td>0</td></tr><tr><td>&quot;friedma01&quot;</td><td>2019</td><td>40</td><td>56</td><td>11</td><td>11</td><td>4</td><td>0</td><td>0</td><td>4</td><td>0</td><td>0</td><td>5</td><td>16</td><td>0</td><td>0</td><td>4</td><td>0</td><td>0</td></tr><tr><td>&quot;crawfjp01&quot;</td><td>2018</td><td>49</td><td>117</td><td>17</td><td>25</td><td>6</td><td>3</td><td>3</td><td>12</td><td>2</td><td>0</td><td>13</td><td>37</td><td>0</td><td>5</td><td>2</td><td>0</td><td>2</td></tr><tr><td>&quot;diazvi01&quot;</td><td>2007</td><td>37</td><td>104</td><td>13</td><td>25</td><td>4</td><td>0</td><td>9</td><td>25</td><td>0</td><td>0</td><td>1</td><td>33</td><td>0</td><td>2</td><td>0</td><td>1</td><td>4</td></tr></tbody></table></div>"
      ],
      "text/plain": [
       "shape: (24_126, 19)\n",
       "┌───────────┬────────┬─────────┬──────────┬───┬───────────┬──────────┬──────────┬────────────┐\n",
       "│ playerID  ┆ yearID ┆ total_G ┆ total_AB ┆ … ┆ total_HBP ┆ total_SH ┆ total_SF ┆ total_GIDP │\n",
       "│ ---       ┆ ---    ┆ ---     ┆ ---      ┆   ┆ ---       ┆ ---      ┆ ---      ┆ ---        │\n",
       "│ str       ┆ i64    ┆ i64     ┆ i64      ┆   ┆ i64       ┆ i64      ┆ i64      ┆ i64        │\n",
       "╞═══════════╪════════╪═════════╪══════════╪═══╪═══════════╪══════════╪══════════╪════════════╡\n",
       "│ gillu01   ┆ 2022   ┆ 1       ┆ 0        ┆ … ┆ 0         ┆ 0        ┆ 0        ┆ 0          │\n",
       "│ velasvi01 ┆ 2023   ┆ 8       ┆ 0        ┆ … ┆ 0         ┆ 0        ┆ 0        ┆ 0          │\n",
       "│ janseke01 ┆ 2010   ┆ 26      ┆ 1        ┆ … ┆ 0         ┆ 0        ┆ 0        ┆ 0          │\n",
       "│ hamelco01 ┆ 2012   ┆ 31      ┆ 69       ┆ … ┆ 1         ┆ 8        ┆ 0        ┆ 1          │\n",
       "│ claysa01  ┆ 2021   ┆ 58      ┆ 2        ┆ … ┆ 0         ┆ 0        ┆ 0        ┆ 0          │\n",
       "│ …         ┆ …      ┆ …       ┆ …        ┆ … ┆ …         ┆ …        ┆ …        ┆ …          │\n",
       "│ harderi01 ┆ 2011   ┆ 15      ┆ 0        ┆ … ┆ 0         ┆ 0        ┆ 0        ┆ 0          │\n",
       "│ stripro01 ┆ 2021   ┆ 24      ┆ 5        ┆ … ┆ 0         ┆ 1        ┆ 0        ┆ 0          │\n",
       "│ friedma01 ┆ 2019   ┆ 40      ┆ 56       ┆ … ┆ 0         ┆ 4        ┆ 0        ┆ 0          │\n",
       "│ crawfjp01 ┆ 2018   ┆ 49      ┆ 117      ┆ … ┆ 5         ┆ 2        ┆ 0        ┆ 2          │\n",
       "│ diazvi01  ┆ 2007   ┆ 37      ┆ 104      ┆ … ┆ 2         ┆ 0        ┆ 1        ┆ 4          │\n",
       "└───────────┴────────┴─────────┴──────────┴───┴───────────┴──────────┴──────────┴────────────┘"
      ]
     },
     "execution_count": 211,
     "metadata": {},
     "output_type": "execute_result"
    }
   ],
   "source": [
    "BattingNew = (Batting\n",
    "          .select([pl.col('playerID'), pl.col('yearID'), pl.col('G'), pl.col('AB'), pl.col('R'), pl.col('H'), pl.col('2B'),\n",
    "                pl.col('3B'), pl.col('HR'), pl.col('RBI'), pl.col('SB'), pl.col('CS'), pl.col('BB'), pl.col('SO'), pl.col('IBB'), pl.col('HBP')\n",
    "                  , pl.col('SH'), pl.col('SF'), pl.col('GIDP')])\n",
    "            .filter((pl.col('yearID') >= 2006))\n",
    "            .group_by(pl.col('playerID'), pl.col('yearID'))  \n",
    "            .agg([pl.col('G').sum().alias('total_G'),\n",
    "            pl.col('AB').sum().alias('total_AB'),\n",
    "            pl.col('R').sum().alias('total_R'),\n",
    "            pl.col('H').sum().alias('total_H'),\n",
    "            pl.col('2B').sum().alias('total_2B'),\n",
    "            pl.col('3B').sum().alias('total_3B'),\n",
    "            pl.col('HR').sum().alias('total_HR'),\n",
    "            pl.col('RBI').sum().alias('total_RBI'),\n",
    "            pl.col('SB').sum().alias('total_SB'),\n",
    "            pl.col('CS').sum().alias('total_CS'),\n",
    "            pl.col('BB').sum().alias('total_BB'),\n",
    "            pl.col('SO').sum().alias('total_SO'),\n",
    "            pl.col('IBB').sum().alias('total_IBB'),\n",
    "            pl.col('HBP').sum().alias('total_HBP'),\n",
    "            pl.col('SH').sum().alias('total_SH'),\n",
    "            pl.col('SF').sum().alias('total_SF'),\n",
    "            pl.col('GIDP').sum().alias('total_GIDP')\n",
    "                 ])\n",
    "         )\n",
    "BattingNew"
   ]
  },
  {
   "cell_type": "code",
   "execution_count": 214,
   "id": "fcd56b17-f1d4-40c1-93c7-1581aa6a1bee",
   "metadata": {},
   "outputs": [
    {
     "data": {
      "text/html": [
       "<div><style>\n",
       ".dataframe > thead > tr,\n",
       ".dataframe > tbody > tr {\n",
       "  text-align: right;\n",
       "  white-space: pre-wrap;\n",
       "}\n",
       "</style>\n",
       "<small>shape: (9_131, 56)</small><table border=\"1\" class=\"dataframe\"><thead><tr><th>yearID</th><th>playerID</th><th>total_salary</th><th>total_G</th><th>total_GS</th><th>total_InnOuts</th><th>total_PO</th><th>total_A</th><th>total_E</th><th>total_DP</th><th>total_PB</th><th>total_WP</th><th>total_SB</th><th>total_CS</th><th>total_ZR</th><th>total_G_right</th><th>total_AB</th><th>total_R</th><th>total_H</th><th>total_2B</th><th>total_3B</th><th>total_HR</th><th>total_RBI</th><th>total_SB_right</th><th>total_CS_right</th><th>total_BB</th><th>total_SO</th><th>total_IBB</th><th>total_HBP</th><th>total_SH</th><th>total_SF</th><th>total_GIDP</th><th>total_W</th><th>total_L</th><th>total_GS_right</th><th>total_CG</th><th>total_SHO</th><th>total_SV</th><th>total_IPouts</th><th>total_H_right</th><th>total_ER</th><th>total_HR_right</th><th>total_BB_allowed</th><th>total_SO_onbatters</th><th>mean_BAOpp</th><th>mean_ERA</th><th>total_IBB_right</th><th>total_WP_right</th><th>total_HBP_right</th><th>total_BK</th><th>total_BFP</th><th>total_GF</th><th>total_R_right</th><th>total_SH_right</th><th>total_SF_right</th><th>total_GIDP_right</th></tr><tr><td>i64</td><td>str</td><td>i64</td><td>i64</td><td>i64</td><td>i64</td><td>i64</td><td>i64</td><td>i64</td><td>i64</td><td>str</td><td>str</td><td>str</td><td>str</td><td>str</td><td>i64</td><td>i64</td><td>i64</td><td>i64</td><td>i64</td><td>i64</td><td>i64</td><td>i64</td><td>i64</td><td>i64</td><td>i64</td><td>i64</td><td>i64</td><td>i64</td><td>i64</td><td>i64</td><td>i64</td><td>i64</td><td>i64</td><td>i64</td><td>i64</td><td>i64</td><td>i64</td><td>i64</td><td>i64</td><td>i64</td><td>i64</td><td>i64</td><td>i64</td><td>f64</td><td>f64</td><td>i64</td><td>i64</td><td>i64</td><td>i64</td><td>i64</td><td>i64</td><td>i64</td><td>i64</td><td>i64</td><td>i64</td></tr></thead><tbody><tr><td>2012</td><td>&quot;roenijo01&quot;</td><td>481000</td><td>63</td><td>0</td><td>266</td><td>3</td><td>20</td><td>1</td><td>0</td><td>null</td><td>null</td><td>null</td><td>null</td><td>null</td><td>63</td><td>12</td><td>1</td><td>1</td><td>0</td><td>0</td><td>0</td><td>0</td><td>0</td><td>0</td><td>0</td><td>6</td><td>0</td><td>1</td><td>0</td><td>0</td><td>0</td><td>4</td><td>2</td><td>0</td><td>0</td><td>0</td><td>1</td><td>266</td><td>85</td><td>32</td><td>9</td><td>43</td><td>54</td><td>0.259</td><td>3.25</td><td>3</td><td>8</td><td>2</td><td>0</td><td>383</td><td>14</td><td>40</td><td>6</td><td>4</td><td>12</td></tr><tr><td>2010</td><td>&quot;tejadmi01&quot;</td><td>6000000</td><td>155</td><td>152</td><td>3960</td><td>137</td><td>362</td><td>18</td><td>62</td><td>null</td><td>null</td><td>null</td><td>null</td><td>null</td><td>156</td><td>636</td><td>71</td><td>171</td><td>26</td><td>0</td><td>15</td><td>71</td><td>2</td><td>0</td><td>30</td><td>67</td><td>3</td><td>11</td><td>1</td><td>3</td><td>16</td><td>null</td><td>null</td><td>null</td><td>null</td><td>null</td><td>null</td><td>null</td><td>null</td><td>null</td><td>null</td><td>null</td><td>null</td><td>null</td><td>null</td><td>null</td><td>null</td><td>null</td><td>null</td><td>null</td><td>null</td><td>null</td><td>null</td><td>null</td><td>null</td></tr><tr><td>2016</td><td>&quot;lestejo01&quot;</td><td>25000000</td><td>32</td><td>32</td><td>608</td><td>18</td><td>17</td><td>0</td><td>1</td><td>null</td><td>null</td><td>null</td><td>null</td><td>null</td><td>33</td><td>59</td><td>3</td><td>6</td><td>3</td><td>0</td><td>0</td><td>6</td><td>0</td><td>0</td><td>6</td><td>18</td><td>0</td><td>0</td><td>10</td><td>0</td><td>2</td><td>19</td><td>5</td><td>32</td><td>2</td><td>0</td><td>0</td><td>608</td><td>154</td><td>55</td><td>21</td><td>52</td><td>197</td><td>0.211</td><td>2.44</td><td>0</td><td>4</td><td>6</td><td>0</td><td>796</td><td>0</td><td>57</td><td>4</td><td>4</td><td>15</td></tr><tr><td>2007</td><td>&quot;baldero01&quot;</td><td>750000</td><td>20</td><td>20</td><td>486</td><td>62</td><td>3</td><td>0</td><td>1</td><td>null</td><td>null</td><td>null</td><td>null</td><td>null</td><td>35</td><td>137</td><td>16</td><td>28</td><td>6</td><td>0</td><td>5</td><td>12</td><td>4</td><td>1</td><td>9</td><td>35</td><td>1</td><td>3</td><td>1</td><td>0</td><td>1</td><td>null</td><td>null</td><td>null</td><td>null</td><td>null</td><td>null</td><td>null</td><td>null</td><td>null</td><td>null</td><td>null</td><td>null</td><td>null</td><td>null</td><td>null</td><td>null</td><td>null</td><td>null</td><td>null</td><td>null</td><td>null</td><td>null</td><td>null</td><td>null</td></tr><tr><td>2008</td><td>&quot;owingmi01&quot;</td><td>402000</td><td>22</td><td>18</td><td>314</td><td>13</td><td>12</td><td>1</td><td>1</td><td>null</td><td>null</td><td>null</td><td>null</td><td>null</td><td>40</td><td>56</td><td>7</td><td>17</td><td>3</td><td>0</td><td>1</td><td>6</td><td>0</td><td>0</td><td>5</td><td>21</td><td>0</td><td>0</td><td>1</td><td>0</td><td>2</td><td>6</td><td>9</td><td>18</td><td>0</td><td>0</td><td>0</td><td>314</td><td>104</td><td>69</td><td>14</td><td>41</td><td>87</td><td>0.256</td><td>5.93</td><td>0</td><td>4</td><td>12</td><td>0</td><td>466</td><td>2</td><td>73</td><td>2</td><td>4</td><td>3</td></tr><tr><td>&hellip;</td><td>&hellip;</td><td>&hellip;</td><td>&hellip;</td><td>&hellip;</td><td>&hellip;</td><td>&hellip;</td><td>&hellip;</td><td>&hellip;</td><td>&hellip;</td><td>&hellip;</td><td>&hellip;</td><td>&hellip;</td><td>&hellip;</td><td>&hellip;</td><td>&hellip;</td><td>&hellip;</td><td>&hellip;</td><td>&hellip;</td><td>&hellip;</td><td>&hellip;</td><td>&hellip;</td><td>&hellip;</td><td>&hellip;</td><td>&hellip;</td><td>&hellip;</td><td>&hellip;</td><td>&hellip;</td><td>&hellip;</td><td>&hellip;</td><td>&hellip;</td><td>&hellip;</td><td>&hellip;</td><td>&hellip;</td><td>&hellip;</td><td>&hellip;</td><td>&hellip;</td><td>&hellip;</td><td>&hellip;</td><td>&hellip;</td><td>&hellip;</td><td>&hellip;</td><td>&hellip;</td><td>&hellip;</td><td>&hellip;</td><td>&hellip;</td><td>&hellip;</td><td>&hellip;</td><td>&hellip;</td><td>&hellip;</td><td>&hellip;</td><td>&hellip;</td><td>&hellip;</td><td>&hellip;</td><td>&hellip;</td><td>&hellip;</td></tr><tr><td>2013</td><td>&quot;hagadni01&quot;</td><td>492100</td><td>36</td><td>0</td><td>94</td><td>0</td><td>4</td><td>0</td><td>0</td><td>null</td><td>null</td><td>null</td><td>null</td><td>null</td><td>36</td><td>0</td><td>0</td><td>0</td><td>0</td><td>0</td><td>0</td><td>0</td><td>0</td><td>0</td><td>0</td><td>0</td><td>0</td><td>0</td><td>0</td><td>0</td><td>0</td><td>0</td><td>1</td><td>0</td><td>0</td><td>0</td><td>0</td><td>94</td><td>24</td><td>19</td><td>4</td><td>21</td><td>30</td><td>0.22</td><td>5.46</td><td>1</td><td>3</td><td>0</td><td>0</td><td>133</td><td>1</td><td>21</td><td>2</td><td>1</td><td>4</td></tr><tr><td>2016</td><td>&quot;sotoge01&quot;</td><td>2800000</td><td>25</td><td>22</td><td>579</td><td>147</td><td>8</td><td>2</td><td>0</td><td>null</td><td>null</td><td>null</td><td>null</td><td>null</td><td>26</td><td>78</td><td>11</td><td>21</td><td>5</td><td>0</td><td>4</td><td>9</td><td>0</td><td>0</td><td>6</td><td>21</td><td>0</td><td>0</td><td>2</td><td>0</td><td>1</td><td>null</td><td>null</td><td>null</td><td>null</td><td>null</td><td>null</td><td>null</td><td>null</td><td>null</td><td>null</td><td>null</td><td>null</td><td>null</td><td>null</td><td>null</td><td>null</td><td>null</td><td>null</td><td>null</td><td>null</td><td>null</td><td>null</td><td>null</td><td>null</td></tr><tr><td>2009</td><td>&quot;garkory01&quot;</td><td>446100</td><td>96</td><td>87</td><td>2141</td><td>653</td><td>51</td><td>5</td><td>70</td><td>null</td><td>null</td><td>null</td><td>null</td><td>null</td><td>118</td><td>354</td><td>39</td><td>95</td><td>13</td><td>1</td><td>13</td><td>51</td><td>0</td><td>0</td><td>29</td><td>50</td><td>1</td><td>13</td><td>2</td><td>2</td><td>8</td><td>null</td><td>null</td><td>null</td><td>null</td><td>null</td><td>null</td><td>null</td><td>null</td><td>null</td><td>null</td><td>null</td><td>null</td><td>null</td><td>null</td><td>null</td><td>null</td><td>null</td><td>null</td><td>null</td><td>null</td><td>null</td><td>null</td><td>null</td><td>null</td></tr><tr><td>2007</td><td>&quot;westbja01&quot;</td><td>6100000</td><td>25</td><td>25</td><td>456</td><td>19</td><td>29</td><td>0</td><td>5</td><td>null</td><td>null</td><td>null</td><td>null</td><td>null</td><td>25</td><td>2</td><td>0</td><td>0</td><td>0</td><td>0</td><td>0</td><td>0</td><td>0</td><td>0</td><td>0</td><td>2</td><td>0</td><td>0</td><td>0</td><td>0</td><td>0</td><td>6</td><td>9</td><td>25</td><td>0</td><td>0</td><td>0</td><td>456</td><td>159</td><td>73</td><td>13</td><td>55</td><td>93</td><td>0.276</td><td>4.32</td><td>5</td><td>3</td><td>6</td><td>0</td><td>648</td><td>0</td><td>78</td><td>6</td><td>4</td><td>20</td></tr><tr><td>2009</td><td>&quot;ryanbr01&quot;</td><td>403000</td><td>124</td><td>105</td><td>2779</td><td>166</td><td>385</td><td>9</td><td>80</td><td>null</td><td>null</td><td>null</td><td>null</td><td>null</td><td>129</td><td>390</td><td>55</td><td>114</td><td>19</td><td>7</td><td>3</td><td>37</td><td>14</td><td>7</td><td>24</td><td>56</td><td>3</td><td>6</td><td>6</td><td>3</td><td>9</td><td>null</td><td>null</td><td>null</td><td>null</td><td>null</td><td>null</td><td>null</td><td>null</td><td>null</td><td>null</td><td>null</td><td>null</td><td>null</td><td>null</td><td>null</td><td>null</td><td>null</td><td>null</td><td>null</td><td>null</td><td>null</td><td>null</td><td>null</td><td>null</td></tr></tbody></table></div>"
      ],
      "text/plain": [
       "shape: (9_131, 56)\n",
       "┌────────┬───────────┬────────────┬─────────┬───┬────────────┬────────────┬────────────┬───────────┐\n",
       "│ yearID ┆ playerID  ┆ total_sala ┆ total_G ┆ … ┆ total_R_ri ┆ total_SH_r ┆ total_SF_r ┆ total_GID │\n",
       "│ ---    ┆ ---       ┆ ry         ┆ ---     ┆   ┆ ght        ┆ ight       ┆ ight       ┆ P_right   │\n",
       "│ i64    ┆ str       ┆ ---        ┆ i64     ┆   ┆ ---        ┆ ---        ┆ ---        ┆ ---       │\n",
       "│        ┆           ┆ i64        ┆         ┆   ┆ i64        ┆ i64        ┆ i64        ┆ i64       │\n",
       "╞════════╪═══════════╪════════════╪═════════╪═══╪════════════╪════════════╪════════════╪═══════════╡\n",
       "│ 2012   ┆ roenijo01 ┆ 481000     ┆ 63      ┆ … ┆ 40         ┆ 6          ┆ 4          ┆ 12        │\n",
       "│ 2010   ┆ tejadmi01 ┆ 6000000    ┆ 155     ┆ … ┆ null       ┆ null       ┆ null       ┆ null      │\n",
       "│ 2016   ┆ lestejo01 ┆ 25000000   ┆ 32      ┆ … ┆ 57         ┆ 4          ┆ 4          ┆ 15        │\n",
       "│ 2007   ┆ baldero01 ┆ 750000     ┆ 20      ┆ … ┆ null       ┆ null       ┆ null       ┆ null      │\n",
       "│ 2008   ┆ owingmi01 ┆ 402000     ┆ 22      ┆ … ┆ 73         ┆ 2          ┆ 4          ┆ 3         │\n",
       "│ …      ┆ …         ┆ …          ┆ …       ┆ … ┆ …          ┆ …          ┆ …          ┆ …         │\n",
       "│ 2013   ┆ hagadni01 ┆ 492100     ┆ 36      ┆ … ┆ 21         ┆ 2          ┆ 1          ┆ 4         │\n",
       "│ 2016   ┆ sotoge01  ┆ 2800000    ┆ 25      ┆ … ┆ null       ┆ null       ┆ null       ┆ null      │\n",
       "│ 2009   ┆ garkory01 ┆ 446100     ┆ 96      ┆ … ┆ null       ┆ null       ┆ null       ┆ null      │\n",
       "│ 2007   ┆ westbja01 ┆ 6100000    ┆ 25      ┆ … ┆ 78         ┆ 6          ┆ 4          ┆ 20        │\n",
       "│ 2009   ┆ ryanbr01  ┆ 403000     ┆ 124     ┆ … ┆ null       ┆ null       ┆ null       ┆ null      │\n",
       "└────────┴───────────┴────────────┴─────────┴───┴────────────┴────────────┴────────────┴───────────┘"
      ]
     },
     "execution_count": 214,
     "metadata": {},
     "output_type": "execute_result"
    }
   ],
   "source": [
    "Salary_Data = (SalaryNew \n",
    "                       .join(FieldingNew, on=['playerID','yearID'], how='left')\n",
    "              )\n",
    "Salary_Data = (Salary_Data\n",
    "                       .join(BattingNew, on=['playerID','yearID'], how='left')\n",
    "              )\n",
    "Salary_Data = (Salary_Data\n",
    "                       .join(PitchingNew, on=['playerID','yearID', 'total_G'], how='left')\n",
    "              )\n",
    "Salary_Data"
   ]
  },
  {
   "cell_type": "code",
   "execution_count": 215,
   "id": "b5a224c8-0d7c-488f-a59a-6242920b7df0",
   "metadata": {},
   "outputs": [
    {
     "data": {
      "text/html": [
       "<div><style>\n",
       ".dataframe > thead > tr,\n",
       ".dataframe > tbody > tr {\n",
       "  text-align: right;\n",
       "  white-space: pre-wrap;\n",
       "}\n",
       "</style>\n",
       "<small>shape: (9_131, 57)</small><table border=\"1\" class=\"dataframe\"><thead><tr><th>yearID</th><th>playerID</th><th>total_salary</th><th>total_G</th><th>total_GS</th><th>total_InnOuts</th><th>total_PO</th><th>total_A</th><th>total_E</th><th>total_DP</th><th>total_PB</th><th>total_WP</th><th>total_SB</th><th>total_CS</th><th>total_ZR</th><th>total_G_right</th><th>total_AB</th><th>total_R</th><th>total_H</th><th>total_2B</th><th>total_3B</th><th>total_HR</th><th>total_RBI</th><th>total_SB_right</th><th>total_CS_right</th><th>total_BB</th><th>total_SO</th><th>total_IBB</th><th>total_HBP</th><th>total_SH</th><th>total_SF</th><th>total_GIDP</th><th>total_W</th><th>total_L</th><th>total_GS_right</th><th>total_CG</th><th>total_SHO</th><th>total_SV</th><th>total_IPouts</th><th>total_H_right</th><th>total_ER</th><th>total_HR_right</th><th>total_BB_allowed</th><th>total_SO_onbatters</th><th>mean_BAOpp</th><th>mean_ERA</th><th>total_IBB_right</th><th>total_WP_right</th><th>total_HBP_right</th><th>total_BK</th><th>total_BFP</th><th>total_GF</th><th>total_R_right</th><th>total_SH_right</th><th>total_SF_right</th><th>total_GIDP_right</th><th>Training_Validation</th></tr><tr><td>i64</td><td>str</td><td>i64</td><td>i64</td><td>i64</td><td>i64</td><td>i64</td><td>i64</td><td>i64</td><td>i64</td><td>str</td><td>str</td><td>str</td><td>str</td><td>str</td><td>i64</td><td>i64</td><td>i64</td><td>i64</td><td>i64</td><td>i64</td><td>i64</td><td>i64</td><td>i64</td><td>i64</td><td>i64</td><td>i64</td><td>i64</td><td>i64</td><td>i64</td><td>i64</td><td>i64</td><td>i64</td><td>i64</td><td>i64</td><td>i64</td><td>i64</td><td>i64</td><td>i64</td><td>i64</td><td>i64</td><td>i64</td><td>i64</td><td>i64</td><td>f64</td><td>f64</td><td>i64</td><td>i64</td><td>i64</td><td>i64</td><td>i64</td><td>i64</td><td>i64</td><td>i64</td><td>i64</td><td>i64</td><td>str</td></tr></thead><tbody><tr><td>2012</td><td>&quot;roenijo01&quot;</td><td>481000</td><td>63</td><td>0</td><td>266</td><td>3</td><td>20</td><td>1</td><td>0</td><td>null</td><td>null</td><td>null</td><td>null</td><td>null</td><td>63</td><td>12</td><td>1</td><td>1</td><td>0</td><td>0</td><td>0</td><td>0</td><td>0</td><td>0</td><td>0</td><td>6</td><td>0</td><td>1</td><td>0</td><td>0</td><td>0</td><td>4</td><td>2</td><td>0</td><td>0</td><td>0</td><td>1</td><td>266</td><td>85</td><td>32</td><td>9</td><td>43</td><td>54</td><td>0.259</td><td>3.25</td><td>3</td><td>8</td><td>2</td><td>0</td><td>383</td><td>14</td><td>40</td><td>6</td><td>4</td><td>12</td><td>&quot;Training&quot;</td></tr><tr><td>2010</td><td>&quot;tejadmi01&quot;</td><td>6000000</td><td>155</td><td>152</td><td>3960</td><td>137</td><td>362</td><td>18</td><td>62</td><td>null</td><td>null</td><td>null</td><td>null</td><td>null</td><td>156</td><td>636</td><td>71</td><td>171</td><td>26</td><td>0</td><td>15</td><td>71</td><td>2</td><td>0</td><td>30</td><td>67</td><td>3</td><td>11</td><td>1</td><td>3</td><td>16</td><td>null</td><td>null</td><td>null</td><td>null</td><td>null</td><td>null</td><td>null</td><td>null</td><td>null</td><td>null</td><td>null</td><td>null</td><td>null</td><td>null</td><td>null</td><td>null</td><td>null</td><td>null</td><td>null</td><td>null</td><td>null</td><td>null</td><td>null</td><td>null</td><td>&quot;Training&quot;</td></tr><tr><td>2016</td><td>&quot;lestejo01&quot;</td><td>25000000</td><td>32</td><td>32</td><td>608</td><td>18</td><td>17</td><td>0</td><td>1</td><td>null</td><td>null</td><td>null</td><td>null</td><td>null</td><td>33</td><td>59</td><td>3</td><td>6</td><td>3</td><td>0</td><td>0</td><td>6</td><td>0</td><td>0</td><td>6</td><td>18</td><td>0</td><td>0</td><td>10</td><td>0</td><td>2</td><td>19</td><td>5</td><td>32</td><td>2</td><td>0</td><td>0</td><td>608</td><td>154</td><td>55</td><td>21</td><td>52</td><td>197</td><td>0.211</td><td>2.44</td><td>0</td><td>4</td><td>6</td><td>0</td><td>796</td><td>0</td><td>57</td><td>4</td><td>4</td><td>15</td><td>&quot;Training&quot;</td></tr><tr><td>2007</td><td>&quot;baldero01&quot;</td><td>750000</td><td>20</td><td>20</td><td>486</td><td>62</td><td>3</td><td>0</td><td>1</td><td>null</td><td>null</td><td>null</td><td>null</td><td>null</td><td>35</td><td>137</td><td>16</td><td>28</td><td>6</td><td>0</td><td>5</td><td>12</td><td>4</td><td>1</td><td>9</td><td>35</td><td>1</td><td>3</td><td>1</td><td>0</td><td>1</td><td>null</td><td>null</td><td>null</td><td>null</td><td>null</td><td>null</td><td>null</td><td>null</td><td>null</td><td>null</td><td>null</td><td>null</td><td>null</td><td>null</td><td>null</td><td>null</td><td>null</td><td>null</td><td>null</td><td>null</td><td>null</td><td>null</td><td>null</td><td>null</td><td>&quot;Training&quot;</td></tr><tr><td>2008</td><td>&quot;owingmi01&quot;</td><td>402000</td><td>22</td><td>18</td><td>314</td><td>13</td><td>12</td><td>1</td><td>1</td><td>null</td><td>null</td><td>null</td><td>null</td><td>null</td><td>40</td><td>56</td><td>7</td><td>17</td><td>3</td><td>0</td><td>1</td><td>6</td><td>0</td><td>0</td><td>5</td><td>21</td><td>0</td><td>0</td><td>1</td><td>0</td><td>2</td><td>6</td><td>9</td><td>18</td><td>0</td><td>0</td><td>0</td><td>314</td><td>104</td><td>69</td><td>14</td><td>41</td><td>87</td><td>0.256</td><td>5.93</td><td>0</td><td>4</td><td>12</td><td>0</td><td>466</td><td>2</td><td>73</td><td>2</td><td>4</td><td>3</td><td>&quot;Training&quot;</td></tr><tr><td>&hellip;</td><td>&hellip;</td><td>&hellip;</td><td>&hellip;</td><td>&hellip;</td><td>&hellip;</td><td>&hellip;</td><td>&hellip;</td><td>&hellip;</td><td>&hellip;</td><td>&hellip;</td><td>&hellip;</td><td>&hellip;</td><td>&hellip;</td><td>&hellip;</td><td>&hellip;</td><td>&hellip;</td><td>&hellip;</td><td>&hellip;</td><td>&hellip;</td><td>&hellip;</td><td>&hellip;</td><td>&hellip;</td><td>&hellip;</td><td>&hellip;</td><td>&hellip;</td><td>&hellip;</td><td>&hellip;</td><td>&hellip;</td><td>&hellip;</td><td>&hellip;</td><td>&hellip;</td><td>&hellip;</td><td>&hellip;</td><td>&hellip;</td><td>&hellip;</td><td>&hellip;</td><td>&hellip;</td><td>&hellip;</td><td>&hellip;</td><td>&hellip;</td><td>&hellip;</td><td>&hellip;</td><td>&hellip;</td><td>&hellip;</td><td>&hellip;</td><td>&hellip;</td><td>&hellip;</td><td>&hellip;</td><td>&hellip;</td><td>&hellip;</td><td>&hellip;</td><td>&hellip;</td><td>&hellip;</td><td>&hellip;</td><td>&hellip;</td><td>&hellip;</td></tr><tr><td>2013</td><td>&quot;hagadni01&quot;</td><td>492100</td><td>36</td><td>0</td><td>94</td><td>0</td><td>4</td><td>0</td><td>0</td><td>null</td><td>null</td><td>null</td><td>null</td><td>null</td><td>36</td><td>0</td><td>0</td><td>0</td><td>0</td><td>0</td><td>0</td><td>0</td><td>0</td><td>0</td><td>0</td><td>0</td><td>0</td><td>0</td><td>0</td><td>0</td><td>0</td><td>0</td><td>1</td><td>0</td><td>0</td><td>0</td><td>0</td><td>94</td><td>24</td><td>19</td><td>4</td><td>21</td><td>30</td><td>0.22</td><td>5.46</td><td>1</td><td>3</td><td>0</td><td>0</td><td>133</td><td>1</td><td>21</td><td>2</td><td>1</td><td>4</td><td>&quot;Training&quot;</td></tr><tr><td>2016</td><td>&quot;sotoge01&quot;</td><td>2800000</td><td>25</td><td>22</td><td>579</td><td>147</td><td>8</td><td>2</td><td>0</td><td>null</td><td>null</td><td>null</td><td>null</td><td>null</td><td>26</td><td>78</td><td>11</td><td>21</td><td>5</td><td>0</td><td>4</td><td>9</td><td>0</td><td>0</td><td>6</td><td>21</td><td>0</td><td>0</td><td>2</td><td>0</td><td>1</td><td>null</td><td>null</td><td>null</td><td>null</td><td>null</td><td>null</td><td>null</td><td>null</td><td>null</td><td>null</td><td>null</td><td>null</td><td>null</td><td>null</td><td>null</td><td>null</td><td>null</td><td>null</td><td>null</td><td>null</td><td>null</td><td>null</td><td>null</td><td>null</td><td>&quot;Training&quot;</td></tr><tr><td>2009</td><td>&quot;garkory01&quot;</td><td>446100</td><td>96</td><td>87</td><td>2141</td><td>653</td><td>51</td><td>5</td><td>70</td><td>null</td><td>null</td><td>null</td><td>null</td><td>null</td><td>118</td><td>354</td><td>39</td><td>95</td><td>13</td><td>1</td><td>13</td><td>51</td><td>0</td><td>0</td><td>29</td><td>50</td><td>1</td><td>13</td><td>2</td><td>2</td><td>8</td><td>null</td><td>null</td><td>null</td><td>null</td><td>null</td><td>null</td><td>null</td><td>null</td><td>null</td><td>null</td><td>null</td><td>null</td><td>null</td><td>null</td><td>null</td><td>null</td><td>null</td><td>null</td><td>null</td><td>null</td><td>null</td><td>null</td><td>null</td><td>null</td><td>&quot;Training&quot;</td></tr><tr><td>2007</td><td>&quot;westbja01&quot;</td><td>6100000</td><td>25</td><td>25</td><td>456</td><td>19</td><td>29</td><td>0</td><td>5</td><td>null</td><td>null</td><td>null</td><td>null</td><td>null</td><td>25</td><td>2</td><td>0</td><td>0</td><td>0</td><td>0</td><td>0</td><td>0</td><td>0</td><td>0</td><td>0</td><td>2</td><td>0</td><td>0</td><td>0</td><td>0</td><td>0</td><td>6</td><td>9</td><td>25</td><td>0</td><td>0</td><td>0</td><td>456</td><td>159</td><td>73</td><td>13</td><td>55</td><td>93</td><td>0.276</td><td>4.32</td><td>5</td><td>3</td><td>6</td><td>0</td><td>648</td><td>0</td><td>78</td><td>6</td><td>4</td><td>20</td><td>&quot;Training&quot;</td></tr><tr><td>2009</td><td>&quot;ryanbr01&quot;</td><td>403000</td><td>124</td><td>105</td><td>2779</td><td>166</td><td>385</td><td>9</td><td>80</td><td>null</td><td>null</td><td>null</td><td>null</td><td>null</td><td>129</td><td>390</td><td>55</td><td>114</td><td>19</td><td>7</td><td>3</td><td>37</td><td>14</td><td>7</td><td>24</td><td>56</td><td>3</td><td>6</td><td>6</td><td>3</td><td>9</td><td>null</td><td>null</td><td>null</td><td>null</td><td>null</td><td>null</td><td>null</td><td>null</td><td>null</td><td>null</td><td>null</td><td>null</td><td>null</td><td>null</td><td>null</td><td>null</td><td>null</td><td>null</td><td>null</td><td>null</td><td>null</td><td>null</td><td>null</td><td>null</td><td>&quot;Training&quot;</td></tr></tbody></table></div>"
      ],
      "text/plain": [
       "shape: (9_131, 57)\n",
       "┌────────┬───────────┬────────────┬─────────┬───┬────────────┬────────────┬────────────┬───────────┐\n",
       "│ yearID ┆ playerID  ┆ total_sala ┆ total_G ┆ … ┆ total_SH_r ┆ total_SF_r ┆ total_GIDP ┆ Training_ │\n",
       "│ ---    ┆ ---       ┆ ry         ┆ ---     ┆   ┆ ight       ┆ ight       ┆ _right     ┆ Validatio │\n",
       "│ i64    ┆ str       ┆ ---        ┆ i64     ┆   ┆ ---        ┆ ---        ┆ ---        ┆ n         │\n",
       "│        ┆           ┆ i64        ┆         ┆   ┆ i64        ┆ i64        ┆ i64        ┆ ---       │\n",
       "│        ┆           ┆            ┆         ┆   ┆            ┆            ┆            ┆ str       │\n",
       "╞════════╪═══════════╪════════════╪═════════╪═══╪════════════╪════════════╪════════════╪═══════════╡\n",
       "│ 2012   ┆ roenijo01 ┆ 481000     ┆ 63      ┆ … ┆ 6          ┆ 4          ┆ 12         ┆ Training  │\n",
       "│ 2010   ┆ tejadmi01 ┆ 6000000    ┆ 155     ┆ … ┆ null       ┆ null       ┆ null       ┆ Training  │\n",
       "│ 2016   ┆ lestejo01 ┆ 25000000   ┆ 32      ┆ … ┆ 4          ┆ 4          ┆ 15         ┆ Training  │\n",
       "│ 2007   ┆ baldero01 ┆ 750000     ┆ 20      ┆ … ┆ null       ┆ null       ┆ null       ┆ Training  │\n",
       "│ 2008   ┆ owingmi01 ┆ 402000     ┆ 22      ┆ … ┆ 2          ┆ 4          ┆ 3          ┆ Training  │\n",
       "│ …      ┆ …         ┆ …          ┆ …       ┆ … ┆ …          ┆ …          ┆ …          ┆ …         │\n",
       "│ 2013   ┆ hagadni01 ┆ 492100     ┆ 36      ┆ … ┆ 2          ┆ 1          ┆ 4          ┆ Training  │\n",
       "│ 2016   ┆ sotoge01  ┆ 2800000    ┆ 25      ┆ … ┆ null       ┆ null       ┆ null       ┆ Training  │\n",
       "│ 2009   ┆ garkory01 ┆ 446100     ┆ 96      ┆ … ┆ null       ┆ null       ┆ null       ┆ Training  │\n",
       "│ 2007   ┆ westbja01 ┆ 6100000    ┆ 25      ┆ … ┆ 6          ┆ 4          ┆ 20         ┆ Training  │\n",
       "│ 2009   ┆ ryanbr01  ┆ 403000     ┆ 124     ┆ … ┆ null       ┆ null       ┆ null       ┆ Training  │\n",
       "└────────┴───────────┴────────────┴─────────┴───┴────────────┴────────────┴────────────┴───────────┘"
      ]
     },
     "execution_count": 215,
     "metadata": {},
     "output_type": "execute_result"
    }
   ],
   "source": [
    "Salary_Data = Salary_Data.with_columns(\n",
    "    pl.when(pl.col(\"yearID\") == 2015)\n",
    "      .then(pl.lit(\"Validation\"))\n",
    "      .otherwise(pl.lit(\"Training\"))\n",
    "      .alias(\"Training_Validation\")\n",
    ")\n",
    "Salary_Data"
   ]
  },
  {
   "cell_type": "code",
   "execution_count": null,
   "id": "06ed28f6-2bce-41b2-a272-07b51d8080fb",
   "metadata": {},
   "outputs": [],
   "source": []
  }
 ],
 "metadata": {
  "kernelspec": {
   "display_name": "Python 3 (ipykernel)",
   "language": "python",
   "name": "python3"
  },
  "language_info": {
   "codemirror_mode": {
    "name": "ipython",
    "version": 3
   },
   "file_extension": ".py",
   "mimetype": "text/x-python",
   "name": "python",
   "nbconvert_exporter": "python",
   "pygments_lexer": "ipython3",
   "version": "3.12.5"
  }
 },
 "nbformat": 4,
 "nbformat_minor": 5
}
